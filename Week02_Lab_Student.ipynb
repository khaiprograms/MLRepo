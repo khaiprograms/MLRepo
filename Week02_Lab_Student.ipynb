{
  "nbformat": 4,
  "nbformat_minor": 0,
  "metadata": {
    "colab": {
      "provenance": [],
      "include_colab_link": true
    },
    "kernelspec": {
      "name": "python3",
      "display_name": "Python 3"
    },
    "language_info": {
      "name": "python"
    }
  },
  "cells": [
    {
      "cell_type": "markdown",
      "metadata": {
        "id": "view-in-github",
        "colab_type": "text"
      },
      "source": [
        "<a href=\"https://colab.research.google.com/github/khaiprograms/MLRepo/blob/main/Week02_Lab_Student.ipynb\" target=\"_parent\"><img src=\"https://colab.research.google.com/assets/colab-badge.svg\" alt=\"Open In Colab\"/></a>"
      ]
    },
    {
      "cell_type": "markdown",
      "metadata": {
        "id": "U7R7sGv8NPxQ"
      },
      "source": [
        "## INF2008 Lab 01\n",
        "\n",
        "### Introduction to Pandas"
      ]
    },
    {
      "cell_type": "markdown",
      "source": [
        "There are three main data structures in Pandas: Series, Index and DataFrame. However the most common ones are DataFrame and Series. Hence for this course we will only go through these two data structures. By the end of the lab, you would have learnt the following:\n",
        "\n",
        "1.1 How to create pandas objects from python list and python dictionary.\n",
        "\n",
        "1.2. How to create pandas dataframe objects from python list, python dictionary and csv files.\n",
        "\n",
        "1.3 How to index / slice pandas series and dataframes."
      ],
      "metadata": {
        "id": "l-VSap5iiwLA"
      }
    },
    {
      "cell_type": "markdown",
      "metadata": {
        "id": "sfTu9hhDNSer"
      },
      "source": [
        "We will first import the necessary libraries. Please import the pandas library as pd."
      ]
    },
    {
      "cell_type": "code",
      "source": [
        "import pandas as pd"
      ],
      "metadata": {
        "id": "rs8p5GY3y3OT"
      },
      "execution_count": 1,
      "outputs": []
    },
    {
      "cell_type": "markdown",
      "metadata": {
        "id": "W_BRA68jRSEf"
      },
      "source": [
        "### Section 1.1 Pandas Series Object"
      ]
    },
    {
      "cell_type": "markdown",
      "source": [
        "A Pandas **Series** is a one-dimensional array, very similar to that of a list, or a numpy array. The main difference is the indexes of the Series object need not be numerical indexes, but can be created from another list or array. We illustrate this below:"
      ],
      "metadata": {
        "id": "WZOdiUOBa-9C"
      }
    },
    {
      "cell_type": "markdown",
      "source": [
        "#### Section 1.1.1 Create Series from List"
      ],
      "metadata": {
        "id": "ZTNsIAAOk6G-"
      }
    },
    {
      "cell_type": "code",
      "source": [
        "temp_list = [1, 2, 3, 4, 5]"
      ],
      "metadata": {
        "id": "hGCwMG-BkK6B"
      },
      "execution_count": 3,
      "outputs": []
    },
    {
      "cell_type": "markdown",
      "source": [
        "Create a pandas series called temp_series from temp_list."
      ],
      "metadata": {
        "id": "IHlsmxQQPwBn"
      }
    },
    {
      "cell_type": "code",
      "source": [
        "temp_series = pd.Series(temp_list)"
      ],
      "metadata": {
        "id": "bPdmyPpYPwTe"
      },
      "execution_count": 4,
      "outputs": []
    },
    {
      "cell_type": "code",
      "metadata": {
        "id": "iqe2RzCEl-gg",
        "colab": {
          "base_uri": "https://localhost:8080/"
        },
        "outputId": "e7bb9d45-15b5-497a-ccea-3a2c2fa604d4"
      },
      "source": [
        "print(temp_series)\n",
        "print(temp_series.values)\n",
        "print(temp_series.index)"
      ],
      "execution_count": 5,
      "outputs": [
        {
          "output_type": "stream",
          "name": "stdout",
          "text": [
            "0    1\n",
            "1    2\n",
            "2    3\n",
            "3    4\n",
            "4    5\n",
            "dtype: int64\n",
            "[1 2 3 4 5]\n",
            "RangeIndex(start=0, stop=5, step=1)\n"
          ]
        }
      ]
    },
    {
      "cell_type": "markdown",
      "source": [
        "Print out the value of the series at index 0."
      ],
      "metadata": {
        "id": "v0MD1f45PB09"
      }
    },
    {
      "cell_type": "code",
      "source": [
        "print(temp_series[0])"
      ],
      "metadata": {
        "colab": {
          "base_uri": "https://localhost:8080/"
        },
        "id": "XWFxI0ODzY6y",
        "outputId": "7f5e1042-47f3-417e-d7ba-3dfb1b71ac54"
      },
      "execution_count": 6,
      "outputs": [
        {
          "output_type": "stream",
          "name": "stdout",
          "text": [
            "1\n"
          ]
        }
      ]
    },
    {
      "cell_type": "markdown",
      "source": [
        "Print out the value of the series from index 2 to the end of the series."
      ],
      "metadata": {
        "id": "BrbqwA-NPH9V"
      }
    },
    {
      "cell_type": "code",
      "source": [
        "print(temp_series[2::])"
      ],
      "metadata": {
        "colab": {
          "base_uri": "https://localhost:8080/"
        },
        "id": "Hfao0iByzY9i",
        "outputId": "9eeaca8f-3122-46ee-d931-7b2393cf6d17"
      },
      "execution_count": 7,
      "outputs": [
        {
          "output_type": "stream",
          "name": "stdout",
          "text": [
            "2    3\n",
            "3    4\n",
            "4    5\n",
            "dtype: int64\n"
          ]
        }
      ]
    },
    {
      "cell_type": "markdown",
      "source": [
        "Print out the value of the series from index 2 to index 3 (both inclusive) of the series."
      ],
      "metadata": {
        "id": "buy_6VDXPLi2"
      }
    },
    {
      "cell_type": "code",
      "source": [
        "print(temp_series[2:4])"
      ],
      "metadata": {
        "colab": {
          "base_uri": "https://localhost:8080/"
        },
        "id": "VSLb-RrKGzkI",
        "outputId": "7dbcfd70-007f-4b37-c062-8c2773501bf0"
      },
      "execution_count": 8,
      "outputs": [
        {
          "output_type": "stream",
          "name": "stdout",
          "text": [
            "2    3\n",
            "3    4\n",
            "dtype: int64\n"
          ]
        }
      ]
    },
    {
      "cell_type": "markdown",
      "source": [
        "Print out the value of the series from index -3 (inclusive) to index -1 (not inclusive) of the series."
      ],
      "metadata": {
        "id": "mdAbadREP9v4"
      }
    },
    {
      "cell_type": "code",
      "source": [
        "print(temp_series[-3:-1])"
      ],
      "metadata": {
        "colab": {
          "base_uri": "https://localhost:8080/"
        },
        "id": "JuEYYhKhzZAQ",
        "outputId": "cae32ec9-92f3-4159-f206-ef232f721715"
      },
      "execution_count": 9,
      "outputs": [
        {
          "output_type": "stream",
          "name": "stdout",
          "text": [
            "2    3\n",
            "3    4\n",
            "dtype: int64\n"
          ]
        }
      ]
    },
    {
      "cell_type": "markdown",
      "source": [
        "Do note that unlike a typical python list, negative indexing does not work for a series, and you need the colon character."
      ],
      "metadata": {
        "id": "53_B0KUiEzCb"
      }
    },
    {
      "cell_type": "code",
      "source": [
        "print(temp_series[-1:])"
      ],
      "metadata": {
        "colab": {
          "base_uri": "https://localhost:8080/"
        },
        "id": "ff3bh8eR5Akg",
        "outputId": "2e0e34c8-fc95-42a0-f4a1-11c48cfbb6c3"
      },
      "execution_count": 11,
      "outputs": [
        {
          "output_type": "stream",
          "name": "stdout",
          "text": [
            "4    5\n",
            "dtype: int64\n"
          ]
        }
      ]
    },
    {
      "cell_type": "markdown",
      "source": [
        "#### Section 1.1.2 Create Series from List where indices are another List"
      ],
      "metadata": {
        "id": "T9PNUtzm5C31"
      }
    },
    {
      "cell_type": "code",
      "source": [
        "temp_list = [0, 1, 2, 3, 4, 5]\n",
        "index_list = ['a', 'b', 'c', 'd', 'e', 'f']"
      ],
      "metadata": {
        "id": "DWVF_WXPQaQI"
      },
      "execution_count": 12,
      "outputs": []
    },
    {
      "cell_type": "markdown",
      "source": [
        "Create a series known as temp_series with values of temp_list and indexes of index_list."
      ],
      "metadata": {
        "id": "6a4BnstxQjvA"
      }
    },
    {
      "cell_type": "code",
      "source": [
        "temp_series = pd.Series(temp_list, index=index_list)"
      ],
      "metadata": {
        "id": "jFBO60uSQeUA"
      },
      "execution_count": 13,
      "outputs": []
    },
    {
      "cell_type": "code",
      "source": [
        "print(temp_series)\n",
        "print(temp_series.values)\n",
        "print(temp_series.index)"
      ],
      "metadata": {
        "colab": {
          "base_uri": "https://localhost:8080/"
        },
        "id": "CK-NR9gXjpCd",
        "outputId": "740cd973-84f1-4416-983a-994c9631fc73"
      },
      "execution_count": 14,
      "outputs": [
        {
          "output_type": "stream",
          "name": "stdout",
          "text": [
            "a    0\n",
            "b    1\n",
            "c    2\n",
            "d    3\n",
            "e    4\n",
            "f    5\n",
            "dtype: int64\n",
            "[0 1 2 3 4 5]\n",
            "Index(['a', 'b', 'c', 'd', 'e', 'f'], dtype='object')\n"
          ]
        }
      ]
    },
    {
      "cell_type": "markdown",
      "source": [
        "We can access the individual values now through their indices. Please access the value with the index value 'd'."
      ],
      "metadata": {
        "id": "V1ZGZqc1lj1a"
      }
    },
    {
      "cell_type": "code",
      "source": [
        "print(temp_series['d'])"
      ],
      "metadata": {
        "colab": {
          "base_uri": "https://localhost:8080/"
        },
        "id": "6l3-bWWT5Gun",
        "outputId": "8884a32d-9edf-4015-fd6f-95ec6badea33"
      },
      "execution_count": 15,
      "outputs": [
        {
          "output_type": "stream",
          "name": "stdout",
          "text": [
            "3\n"
          ]
        }
      ]
    },
    {
      "cell_type": "markdown",
      "source": [
        "Do note that these indices can take any value that we wish to give them. We can give them indices such as:"
      ],
      "metadata": {
        "id": "fL70l0-ilor1"
      }
    },
    {
      "cell_type": "code",
      "source": [
        "temp_series = pd.Series([0, 1, 2, 3, 4, 5],\n",
        "                 index=['8046352B', '8573645H', '9729384G', '1583726D', '2093837C', '239485723E'])"
      ],
      "metadata": {
        "id": "V2fNaJYq5ICr"
      },
      "execution_count": 43,
      "outputs": []
    },
    {
      "cell_type": "code",
      "source": [
        "print(temp_series)\n",
        "print(temp_series.values)\n",
        "print(temp_series.index)"
      ],
      "metadata": {
        "colab": {
          "base_uri": "https://localhost:8080/"
        },
        "id": "m8CYucrP5JJ0",
        "outputId": "54aa11bc-3848-46d2-9e12-9a15469181fd"
      },
      "execution_count": 44,
      "outputs": [
        {
          "output_type": "stream",
          "name": "stdout",
          "text": [
            "8046352B      0\n",
            "8573645H      1\n",
            "9729384G      2\n",
            "1583726D      3\n",
            "2093837C      4\n",
            "239485723E    5\n",
            "dtype: int64\n",
            "[0 1 2 3 4 5]\n",
            "Index(['8046352B', '8573645H', '9729384G', '1583726D', '2093837C',\n",
            "       '239485723E'],\n",
            "      dtype='object')\n"
          ]
        }
      ]
    },
    {
      "cell_type": "markdown",
      "source": [
        "#### Section 1.1.3 Create Series from Dictionary"
      ],
      "metadata": {
        "id": "PwcXEZfV5LYc"
      }
    },
    {
      "cell_type": "code",
      "source": [
        "electorate_dict = {'Aljunied': 150303,\n",
        "                   'Ang Mo Kio': 180186,\n",
        "                   'Bishan': 100036,\n",
        "                   'Chua Chu Kang': 103231,\n",
        "                   'East Coast': 120239}"
      ],
      "metadata": {
        "id": "UpMxpAXl5Mop"
      },
      "execution_count": 16,
      "outputs": []
    },
    {
      "cell_type": "markdown",
      "source": [
        "Create a series from the dictionary and print out the resulting series."
      ],
      "metadata": {
        "id": "JTyzZ6WSSBDJ"
      }
    },
    {
      "cell_type": "code",
      "source": [
        "dict_series = pd.Series(electorate_dict)"
      ],
      "metadata": {
        "id": "kVxKtv7PSAZ2"
      },
      "execution_count": 17,
      "outputs": []
    },
    {
      "cell_type": "markdown",
      "source": [
        "Print out the number of voters at \"Ang Mo Kio\"."
      ],
      "metadata": {
        "id": "9CU5yn_dSFwG"
      }
    },
    {
      "cell_type": "code",
      "source": [
        "print(dict_series['Ang Mo Kio'])"
      ],
      "metadata": {
        "colab": {
          "base_uri": "https://localhost:8080/"
        },
        "id": "oZVNJqAo5QBY",
        "outputId": "3c901dea-5ed9-4158-8d5a-5c336c927d6d"
      },
      "execution_count": 18,
      "outputs": [
        {
          "output_type": "stream",
          "name": "stdout",
          "text": [
            "180186\n"
          ]
        }
      ]
    },
    {
      "cell_type": "markdown",
      "source": [
        "Print out the voters from \"Aljunied\" to \"East Coast\" (both inclusive)"
      ],
      "metadata": {
        "id": "sKvnVqwcSN5p"
      }
    },
    {
      "cell_type": "code",
      "source": [
        "print(dict_series['Aljunied':])"
      ],
      "metadata": {
        "colab": {
          "base_uri": "https://localhost:8080/"
        },
        "id": "7C52VY9z5lUp",
        "outputId": "adca48a3-6ca9-4559-d18e-e0295576a7e8"
      },
      "execution_count": 21,
      "outputs": [
        {
          "output_type": "stream",
          "name": "stdout",
          "text": [
            "Aljunied         150303\n",
            "Ang Mo Kio       180186\n",
            "Bishan           100036\n",
            "Chua Chu Kang    103231\n",
            "East Coast       120239\n",
            "dtype: int64\n"
          ]
        }
      ]
    },
    {
      "cell_type": "markdown",
      "source": [
        "Note this is a bit confusing. The end index is included!!! (as compared to the list where the end index is not included...! Even at the top, the end index is not included...!)"
      ],
      "metadata": {
        "id": "dr0tced8GXM9"
      }
    },
    {
      "cell_type": "markdown",
      "source": [
        "### Section 1.2 Pandas DataFrame Object"
      ],
      "metadata": {
        "id": "x1DDghzOH0Lr"
      }
    },
    {
      "cell_type": "markdown",
      "source": [
        "A Pandas **DataFrame** can be considered to be a table, with rows, columns and headers."
      ],
      "metadata": {
        "id": "70rHzdM4IOxB"
      }
    },
    {
      "cell_type": "markdown",
      "source": [
        "#### Section 1.2.1 Create DataFrame from List"
      ],
      "metadata": {
        "id": "IAr4gp1kI_ev"
      }
    },
    {
      "cell_type": "code",
      "source": [
        "temp_list = ['honda', 'toyota', 'kia', 'bmw', 'mazda']"
      ],
      "metadata": {
        "id": "V64ilFJV5tS9"
      },
      "execution_count": 22,
      "outputs": []
    },
    {
      "cell_type": "markdown",
      "source": [
        "Create a dataframe called temp_pd and print it out."
      ],
      "metadata": {
        "id": "XHgM-26pT_X4"
      }
    },
    {
      "cell_type": "code",
      "source": [
        "temp_pd = pd.DataFrame(temp_list)\n",
        "print(temp_pd)"
      ],
      "metadata": {
        "colab": {
          "base_uri": "https://localhost:8080/"
        },
        "id": "naKGmpw_UCbF",
        "outputId": "2f4cccca-7527-44a7-f076-c5a28da44aac"
      },
      "execution_count": 25,
      "outputs": [
        {
          "output_type": "stream",
          "name": "stdout",
          "text": [
            "        0\n",
            "0   honda\n",
            "1  toyota\n",
            "2     kia\n",
            "3     bmw\n",
            "4   mazda\n"
          ]
        }
      ]
    },
    {
      "cell_type": "markdown",
      "source": [
        "If you wish to have the header, you can use the columns keyword. Notice that columns takes a list as the input.\n",
        "\n",
        "Create a dataframe called temp_pd from temp_list with \"car brand\" as the columns name. Please ue the columns keyword.\n",
        "\n",
        "Please print it out."
      ],
      "metadata": {
        "id": "4lpy-NGzJmRe"
      }
    },
    {
      "cell_type": "code",
      "source": [
        "temp_pd = pd.DataFrame(temp_list, columns = [\"car brand\"])\n",
        "print(temp_pd)"
      ],
      "metadata": {
        "colab": {
          "base_uri": "https://localhost:8080/"
        },
        "id": "ig4yzFKD5u4r",
        "outputId": "1d00390e-e87b-466e-91b3-a22eb460d228"
      },
      "execution_count": 26,
      "outputs": [
        {
          "output_type": "stream",
          "name": "stdout",
          "text": [
            "  car brand\n",
            "0     honda\n",
            "1    toyota\n",
            "2       kia\n",
            "3       bmw\n",
            "4     mazda\n"
          ]
        }
      ]
    },
    {
      "cell_type": "markdown",
      "source": [
        "Suppose we have more than one column, every row should be a list.\n",
        "\n",
        "|car brand|price|\n",
        "|-|-|\n",
        "|honda|150000|\n",
        "etc\n",
        "\n",
        "Do note that the easier way would be to create the dataframe from a dictionary (see 1.2.2)."
      ],
      "metadata": {
        "id": "1QRMCuuBLE5B"
      }
    },
    {
      "cell_type": "code",
      "source": [
        "temp_list_0 = ['honda', 150000]\n",
        "temp_list_1 = ['toyota', 130000]\n",
        "temp_list_2 = ['kia', 100000]\n",
        "temp_list_3 = ['bmw', 250000]\n",
        "temp_list_4 = ['mazda', 140000]\n",
        "\n",
        "temp_list = [temp_list_0, temp_list_1, temp_list_2,temp_list_3, temp_list_4]\n",
        "\n",
        "temp_pd = pd.DataFrame(temp_list, columns=[\"car brand\", \"price\"])\n",
        "temp_pd"
      ],
      "metadata": {
        "colab": {
          "base_uri": "https://localhost:8080/",
          "height": 206
        },
        "id": "fLNisTGvLJlT",
        "outputId": "b8b50f5b-d7d4-4c3a-d79a-66f4a4950657"
      },
      "execution_count": 28,
      "outputs": [
        {
          "output_type": "execute_result",
          "data": {
            "text/plain": [
              "  car brand   price\n",
              "0     honda  150000\n",
              "1    toyota  130000\n",
              "2       kia  100000\n",
              "3       bmw  250000\n",
              "4     mazda  140000"
            ],
            "text/html": [
              "\n",
              "  <div id=\"df-cf63b406-c541-4a31-8c0f-6c51ce090249\" class=\"colab-df-container\">\n",
              "    <div>\n",
              "<style scoped>\n",
              "    .dataframe tbody tr th:only-of-type {\n",
              "        vertical-align: middle;\n",
              "    }\n",
              "\n",
              "    .dataframe tbody tr th {\n",
              "        vertical-align: top;\n",
              "    }\n",
              "\n",
              "    .dataframe thead th {\n",
              "        text-align: right;\n",
              "    }\n",
              "</style>\n",
              "<table border=\"1\" class=\"dataframe\">\n",
              "  <thead>\n",
              "    <tr style=\"text-align: right;\">\n",
              "      <th></th>\n",
              "      <th>car brand</th>\n",
              "      <th>price</th>\n",
              "    </tr>\n",
              "  </thead>\n",
              "  <tbody>\n",
              "    <tr>\n",
              "      <th>0</th>\n",
              "      <td>honda</td>\n",
              "      <td>150000</td>\n",
              "    </tr>\n",
              "    <tr>\n",
              "      <th>1</th>\n",
              "      <td>toyota</td>\n",
              "      <td>130000</td>\n",
              "    </tr>\n",
              "    <tr>\n",
              "      <th>2</th>\n",
              "      <td>kia</td>\n",
              "      <td>100000</td>\n",
              "    </tr>\n",
              "    <tr>\n",
              "      <th>3</th>\n",
              "      <td>bmw</td>\n",
              "      <td>250000</td>\n",
              "    </tr>\n",
              "    <tr>\n",
              "      <th>4</th>\n",
              "      <td>mazda</td>\n",
              "      <td>140000</td>\n",
              "    </tr>\n",
              "  </tbody>\n",
              "</table>\n",
              "</div>\n",
              "    <div class=\"colab-df-buttons\">\n",
              "\n",
              "  <div class=\"colab-df-container\">\n",
              "    <button class=\"colab-df-convert\" onclick=\"convertToInteractive('df-cf63b406-c541-4a31-8c0f-6c51ce090249')\"\n",
              "            title=\"Convert this dataframe to an interactive table.\"\n",
              "            style=\"display:none;\">\n",
              "\n",
              "  <svg xmlns=\"http://www.w3.org/2000/svg\" height=\"24px\" viewBox=\"0 -960 960 960\">\n",
              "    <path d=\"M120-120v-720h720v720H120Zm60-500h600v-160H180v160Zm220 220h160v-160H400v160Zm0 220h160v-160H400v160ZM180-400h160v-160H180v160Zm440 0h160v-160H620v160ZM180-180h160v-160H180v160Zm440 0h160v-160H620v160Z\"/>\n",
              "  </svg>\n",
              "    </button>\n",
              "\n",
              "  <style>\n",
              "    .colab-df-container {\n",
              "      display:flex;\n",
              "      gap: 12px;\n",
              "    }\n",
              "\n",
              "    .colab-df-convert {\n",
              "      background-color: #E8F0FE;\n",
              "      border: none;\n",
              "      border-radius: 50%;\n",
              "      cursor: pointer;\n",
              "      display: none;\n",
              "      fill: #1967D2;\n",
              "      height: 32px;\n",
              "      padding: 0 0 0 0;\n",
              "      width: 32px;\n",
              "    }\n",
              "\n",
              "    .colab-df-convert:hover {\n",
              "      background-color: #E2EBFA;\n",
              "      box-shadow: 0px 1px 2px rgba(60, 64, 67, 0.3), 0px 1px 3px 1px rgba(60, 64, 67, 0.15);\n",
              "      fill: #174EA6;\n",
              "    }\n",
              "\n",
              "    .colab-df-buttons div {\n",
              "      margin-bottom: 4px;\n",
              "    }\n",
              "\n",
              "    [theme=dark] .colab-df-convert {\n",
              "      background-color: #3B4455;\n",
              "      fill: #D2E3FC;\n",
              "    }\n",
              "\n",
              "    [theme=dark] .colab-df-convert:hover {\n",
              "      background-color: #434B5C;\n",
              "      box-shadow: 0px 1px 3px 1px rgba(0, 0, 0, 0.15);\n",
              "      filter: drop-shadow(0px 1px 2px rgba(0, 0, 0, 0.3));\n",
              "      fill: #FFFFFF;\n",
              "    }\n",
              "  </style>\n",
              "\n",
              "    <script>\n",
              "      const buttonEl =\n",
              "        document.querySelector('#df-cf63b406-c541-4a31-8c0f-6c51ce090249 button.colab-df-convert');\n",
              "      buttonEl.style.display =\n",
              "        google.colab.kernel.accessAllowed ? 'block' : 'none';\n",
              "\n",
              "      async function convertToInteractive(key) {\n",
              "        const element = document.querySelector('#df-cf63b406-c541-4a31-8c0f-6c51ce090249');\n",
              "        const dataTable =\n",
              "          await google.colab.kernel.invokeFunction('convertToInteractive',\n",
              "                                                    [key], {});\n",
              "        if (!dataTable) return;\n",
              "\n",
              "        const docLinkHtml = 'Like what you see? Visit the ' +\n",
              "          '<a target=\"_blank\" href=https://colab.research.google.com/notebooks/data_table.ipynb>data table notebook</a>'\n",
              "          + ' to learn more about interactive tables.';\n",
              "        element.innerHTML = '';\n",
              "        dataTable['output_type'] = 'display_data';\n",
              "        await google.colab.output.renderOutput(dataTable, element);\n",
              "        const docLink = document.createElement('div');\n",
              "        docLink.innerHTML = docLinkHtml;\n",
              "        element.appendChild(docLink);\n",
              "      }\n",
              "    </script>\n",
              "  </div>\n",
              "\n",
              "\n",
              "<div id=\"df-5721108a-c3b9-4e5f-863b-86a234f3695c\">\n",
              "  <button class=\"colab-df-quickchart\" onclick=\"quickchart('df-5721108a-c3b9-4e5f-863b-86a234f3695c')\"\n",
              "            title=\"Suggest charts\"\n",
              "            style=\"display:none;\">\n",
              "\n",
              "<svg xmlns=\"http://www.w3.org/2000/svg\" height=\"24px\"viewBox=\"0 0 24 24\"\n",
              "     width=\"24px\">\n",
              "    <g>\n",
              "        <path d=\"M19 3H5c-1.1 0-2 .9-2 2v14c0 1.1.9 2 2 2h14c1.1 0 2-.9 2-2V5c0-1.1-.9-2-2-2zM9 17H7v-7h2v7zm4 0h-2V7h2v10zm4 0h-2v-4h2v4z\"/>\n",
              "    </g>\n",
              "</svg>\n",
              "  </button>\n",
              "\n",
              "<style>\n",
              "  .colab-df-quickchart {\n",
              "      --bg-color: #E8F0FE;\n",
              "      --fill-color: #1967D2;\n",
              "      --hover-bg-color: #E2EBFA;\n",
              "      --hover-fill-color: #174EA6;\n",
              "      --disabled-fill-color: #AAA;\n",
              "      --disabled-bg-color: #DDD;\n",
              "  }\n",
              "\n",
              "  [theme=dark] .colab-df-quickchart {\n",
              "      --bg-color: #3B4455;\n",
              "      --fill-color: #D2E3FC;\n",
              "      --hover-bg-color: #434B5C;\n",
              "      --hover-fill-color: #FFFFFF;\n",
              "      --disabled-bg-color: #3B4455;\n",
              "      --disabled-fill-color: #666;\n",
              "  }\n",
              "\n",
              "  .colab-df-quickchart {\n",
              "    background-color: var(--bg-color);\n",
              "    border: none;\n",
              "    border-radius: 50%;\n",
              "    cursor: pointer;\n",
              "    display: none;\n",
              "    fill: var(--fill-color);\n",
              "    height: 32px;\n",
              "    padding: 0;\n",
              "    width: 32px;\n",
              "  }\n",
              "\n",
              "  .colab-df-quickchart:hover {\n",
              "    background-color: var(--hover-bg-color);\n",
              "    box-shadow: 0 1px 2px rgba(60, 64, 67, 0.3), 0 1px 3px 1px rgba(60, 64, 67, 0.15);\n",
              "    fill: var(--button-hover-fill-color);\n",
              "  }\n",
              "\n",
              "  .colab-df-quickchart-complete:disabled,\n",
              "  .colab-df-quickchart-complete:disabled:hover {\n",
              "    background-color: var(--disabled-bg-color);\n",
              "    fill: var(--disabled-fill-color);\n",
              "    box-shadow: none;\n",
              "  }\n",
              "\n",
              "  .colab-df-spinner {\n",
              "    border: 2px solid var(--fill-color);\n",
              "    border-color: transparent;\n",
              "    border-bottom-color: var(--fill-color);\n",
              "    animation:\n",
              "      spin 1s steps(1) infinite;\n",
              "  }\n",
              "\n",
              "  @keyframes spin {\n",
              "    0% {\n",
              "      border-color: transparent;\n",
              "      border-bottom-color: var(--fill-color);\n",
              "      border-left-color: var(--fill-color);\n",
              "    }\n",
              "    20% {\n",
              "      border-color: transparent;\n",
              "      border-left-color: var(--fill-color);\n",
              "      border-top-color: var(--fill-color);\n",
              "    }\n",
              "    30% {\n",
              "      border-color: transparent;\n",
              "      border-left-color: var(--fill-color);\n",
              "      border-top-color: var(--fill-color);\n",
              "      border-right-color: var(--fill-color);\n",
              "    }\n",
              "    40% {\n",
              "      border-color: transparent;\n",
              "      border-right-color: var(--fill-color);\n",
              "      border-top-color: var(--fill-color);\n",
              "    }\n",
              "    60% {\n",
              "      border-color: transparent;\n",
              "      border-right-color: var(--fill-color);\n",
              "    }\n",
              "    80% {\n",
              "      border-color: transparent;\n",
              "      border-right-color: var(--fill-color);\n",
              "      border-bottom-color: var(--fill-color);\n",
              "    }\n",
              "    90% {\n",
              "      border-color: transparent;\n",
              "      border-bottom-color: var(--fill-color);\n",
              "    }\n",
              "  }\n",
              "</style>\n",
              "\n",
              "  <script>\n",
              "    async function quickchart(key) {\n",
              "      const quickchartButtonEl =\n",
              "        document.querySelector('#' + key + ' button');\n",
              "      quickchartButtonEl.disabled = true;  // To prevent multiple clicks.\n",
              "      quickchartButtonEl.classList.add('colab-df-spinner');\n",
              "      try {\n",
              "        const charts = await google.colab.kernel.invokeFunction(\n",
              "            'suggestCharts', [key], {});\n",
              "      } catch (error) {\n",
              "        console.error('Error during call to suggestCharts:', error);\n",
              "      }\n",
              "      quickchartButtonEl.classList.remove('colab-df-spinner');\n",
              "      quickchartButtonEl.classList.add('colab-df-quickchart-complete');\n",
              "    }\n",
              "    (() => {\n",
              "      let quickchartButtonEl =\n",
              "        document.querySelector('#df-5721108a-c3b9-4e5f-863b-86a234f3695c button');\n",
              "      quickchartButtonEl.style.display =\n",
              "        google.colab.kernel.accessAllowed ? 'block' : 'none';\n",
              "    })();\n",
              "  </script>\n",
              "</div>\n",
              "\n",
              "  <div id=\"id_fb7f6a5a-a0e1-49c9-b1f3-46dc19569fd0\">\n",
              "    <style>\n",
              "      .colab-df-generate {\n",
              "        background-color: #E8F0FE;\n",
              "        border: none;\n",
              "        border-radius: 50%;\n",
              "        cursor: pointer;\n",
              "        display: none;\n",
              "        fill: #1967D2;\n",
              "        height: 32px;\n",
              "        padding: 0 0 0 0;\n",
              "        width: 32px;\n",
              "      }\n",
              "\n",
              "      .colab-df-generate:hover {\n",
              "        background-color: #E2EBFA;\n",
              "        box-shadow: 0px 1px 2px rgba(60, 64, 67, 0.3), 0px 1px 3px 1px rgba(60, 64, 67, 0.15);\n",
              "        fill: #174EA6;\n",
              "      }\n",
              "\n",
              "      [theme=dark] .colab-df-generate {\n",
              "        background-color: #3B4455;\n",
              "        fill: #D2E3FC;\n",
              "      }\n",
              "\n",
              "      [theme=dark] .colab-df-generate:hover {\n",
              "        background-color: #434B5C;\n",
              "        box-shadow: 0px 1px 3px 1px rgba(0, 0, 0, 0.15);\n",
              "        filter: drop-shadow(0px 1px 2px rgba(0, 0, 0, 0.3));\n",
              "        fill: #FFFFFF;\n",
              "      }\n",
              "    </style>\n",
              "    <button class=\"colab-df-generate\" onclick=\"generateWithVariable('temp_pd')\"\n",
              "            title=\"Generate code using this dataframe.\"\n",
              "            style=\"display:none;\">\n",
              "\n",
              "  <svg xmlns=\"http://www.w3.org/2000/svg\" height=\"24px\"viewBox=\"0 0 24 24\"\n",
              "       width=\"24px\">\n",
              "    <path d=\"M7,19H8.4L18.45,9,17,7.55,7,17.6ZM5,21V16.75L18.45,3.32a2,2,0,0,1,2.83,0l1.4,1.43a1.91,1.91,0,0,1,.58,1.4,1.91,1.91,0,0,1-.58,1.4L9.25,21ZM18.45,9,17,7.55Zm-12,3A5.31,5.31,0,0,0,4.9,8.1,5.31,5.31,0,0,0,1,6.5,5.31,5.31,0,0,0,4.9,4.9,5.31,5.31,0,0,0,6.5,1,5.31,5.31,0,0,0,8.1,4.9,5.31,5.31,0,0,0,12,6.5,5.46,5.46,0,0,0,6.5,12Z\"/>\n",
              "  </svg>\n",
              "    </button>\n",
              "    <script>\n",
              "      (() => {\n",
              "      const buttonEl =\n",
              "        document.querySelector('#id_fb7f6a5a-a0e1-49c9-b1f3-46dc19569fd0 button.colab-df-generate');\n",
              "      buttonEl.style.display =\n",
              "        google.colab.kernel.accessAllowed ? 'block' : 'none';\n",
              "\n",
              "      buttonEl.onclick = () => {\n",
              "        google.colab.notebook.generateWithVariable('temp_pd');\n",
              "      }\n",
              "      })();\n",
              "    </script>\n",
              "  </div>\n",
              "\n",
              "    </div>\n",
              "  </div>\n"
            ]
          },
          "metadata": {},
          "execution_count": 28
        }
      ]
    },
    {
      "cell_type": "markdown",
      "source": [
        "#### Section 1.2.2 Create DataFrame from Dictionary"
      ],
      "metadata": {
        "id": "O9UXQAbNKj_I"
      }
    },
    {
      "cell_type": "code",
      "source": [
        "temp_list = ['honda', 'toyota', 'kia', 'bmw', 'mazda']\n",
        "temp_dict = {\"car brand\": temp_list}"
      ],
      "metadata": {
        "id": "urLrgwEDKMko"
      },
      "execution_count": 29,
      "outputs": []
    },
    {
      "cell_type": "markdown",
      "source": [
        "Create a dataframe called \"temp_pd\" from temp_dict."
      ],
      "metadata": {
        "id": "eAPCBDKiVMOi"
      }
    },
    {
      "cell_type": "code",
      "source": [
        "temp_pd = pd.DataFrame(temp_dict)"
      ],
      "metadata": {
        "id": "7cXxom66VMXu"
      },
      "execution_count": 30,
      "outputs": []
    },
    {
      "cell_type": "markdown",
      "source": [
        "If we have more than one column:"
      ],
      "metadata": {
        "id": "KEyrnHB06X4w"
      }
    },
    {
      "cell_type": "code",
      "source": [
        "temp_list_0 = ['honda', 'toyota', 'kia', 'bmw', 'mazda']\n",
        "temp_list_1 = [150000, 130000, 100000, 250000, 140000]"
      ],
      "metadata": {
        "id": "5U-27SwP6dw3"
      },
      "execution_count": 31,
      "outputs": []
    },
    {
      "cell_type": "markdown",
      "source": [
        "Create a dictionary from temp_list_0 and temp_list_1. After that create a pandas dataframe called temp_pd from this dictionary."
      ],
      "metadata": {
        "id": "CKn-0sNsVoNp"
      }
    },
    {
      "cell_type": "code",
      "source": [
        "temp_dict = {\"car brand\": temp_list_0,\n",
        "             \"price\": temp_list_1}\n",
        "temp_pd = pd.DataFrame(temp_dict)"
      ],
      "metadata": {
        "id": "fn74ZSyhVpGh"
      },
      "execution_count": 33,
      "outputs": []
    },
    {
      "cell_type": "markdown",
      "source": [
        "Print out the columns of the dataframe. You can use the columns keyword or the keys function."
      ],
      "metadata": {
        "id": "uVB_N14hV6dX"
      }
    },
    {
      "cell_type": "code",
      "source": [
        "print(temp_pd.columns)"
      ],
      "metadata": {
        "colab": {
          "base_uri": "https://localhost:8080/"
        },
        "id": "bO1cz8O16dzW",
        "outputId": "82b20ebd-fddd-4d4c-d773-5545720bb097"
      },
      "execution_count": 35,
      "outputs": [
        {
          "output_type": "stream",
          "name": "stdout",
          "text": [
            "Index(['car brand', 'price'], dtype='object')\n"
          ]
        }
      ]
    },
    {
      "cell_type": "code",
      "source": [
        "print(temp_pd.keys())"
      ],
      "metadata": {
        "colab": {
          "base_uri": "https://localhost:8080/"
        },
        "id": "yzpb_LC8XV4S",
        "outputId": "7af00be3-3777-4b3a-9aba-695e49e58666"
      },
      "execution_count": 37,
      "outputs": [
        {
          "output_type": "stream",
          "name": "stdout",
          "text": [
            "Index(['car brand', 'price'], dtype='object')\n"
          ]
        }
      ]
    },
    {
      "cell_type": "markdown",
      "source": [
        "Print out the column \"car brand\" of the dataframe."
      ],
      "metadata": {
        "id": "Y9-axXw5V9B7"
      }
    },
    {
      "cell_type": "code",
      "source": [
        "print(temp_pd[\"car brand\"])"
      ],
      "metadata": {
        "colab": {
          "base_uri": "https://localhost:8080/"
        },
        "id": "kwy8613W6d2b",
        "outputId": "b980ba23-fb9a-4b5f-edd4-8a042f0cf80d"
      },
      "execution_count": 38,
      "outputs": [
        {
          "output_type": "stream",
          "name": "stdout",
          "text": [
            "0     honda\n",
            "1    toyota\n",
            "2       kia\n",
            "3       bmw\n",
            "4     mazda\n",
            "Name: car brand, dtype: object\n"
          ]
        }
      ]
    },
    {
      "cell_type": "markdown",
      "source": [
        "#### Section 1.2.3 Create DataFrame from CSV"
      ],
      "metadata": {
        "id": "G89yP7GwTxwh"
      }
    },
    {
      "cell_type": "markdown",
      "source": [
        "The most common option you may do is a load DataFrame from csv."
      ],
      "metadata": {
        "id": "anaQyBpmTLPD"
      }
    },
    {
      "cell_type": "code",
      "source": [
        "!wget https://www.stats.govt.nz/assets/Uploads/Annual-enterprise-survey/Annual-enterprise-survey-2021-financial-year-provisional/Download-data/annual-enterprise-survey-2021-financial-year-provisional-size-bands-csv.csv"
      ],
      "metadata": {
        "colab": {
          "base_uri": "https://localhost:8080/"
        },
        "id": "eRPC8Z7PU7Sf",
        "outputId": "5aa3c6fb-f9ce-4876-9b81-441a8f17b8ce"
      },
      "execution_count": 39,
      "outputs": [
        {
          "output_type": "stream",
          "name": "stdout",
          "text": [
            "--2024-01-08 13:36:43--  https://www.stats.govt.nz/assets/Uploads/Annual-enterprise-survey/Annual-enterprise-survey-2021-financial-year-provisional/Download-data/annual-enterprise-survey-2021-financial-year-provisional-size-bands-csv.csv\n",
            "Resolving www.stats.govt.nz (www.stats.govt.nz)... 45.60.11.104\n",
            "Connecting to www.stats.govt.nz (www.stats.govt.nz)|45.60.11.104|:443... connected.\n",
            "HTTP request sent, awaiting response... 200 OK\n",
            "Length: 1492633 (1.4M) [text/csv]\n",
            "Saving to: ‘annual-enterprise-survey-2021-financial-year-provisional-size-bands-csv.csv’\n",
            "\n",
            "annual-enterprise-s 100%[===================>]   1.42M  --.-KB/s    in 0.08s   \n",
            "\n",
            "2024-01-08 13:36:44 (17.9 MB/s) - ‘annual-enterprise-survey-2021-financial-year-provisional-size-bands-csv.csv’ saved [1492633/1492633]\n",
            "\n"
          ]
        }
      ]
    },
    {
      "cell_type": "markdown",
      "source": [
        "The data has been downloaded into a file known as \"annual-enterprise-survey-2021-financial-year-provisional-size-bands-csv.csv\".\n",
        "\n",
        "Please use the read_csv function to read from the file."
      ],
      "metadata": {
        "id": "rL61gph1WjVI"
      }
    },
    {
      "cell_type": "code",
      "source": [
        "sample_df = pd.read_csv(\"annual-enterprise-survey-2021-financial-year-provisional-size-bands-csv.csv\")"
      ],
      "metadata": {
        "id": "y_qnqVFD6bnH"
      },
      "execution_count": 40,
      "outputs": []
    },
    {
      "cell_type": "markdown",
      "source": [
        "Print out the first five rows with the head function."
      ],
      "metadata": {
        "id": "HAkq9XpQW1Vn"
      }
    },
    {
      "cell_type": "code",
      "source": [
        "print(sample_df.head())"
      ],
      "metadata": {
        "colab": {
          "base_uri": "https://localhost:8080/"
        },
        "id": "OVm_KJqlVzFk",
        "outputId": "35a7009d-0187-48d4-e785-1805ab166a0d"
      },
      "execution_count": 41,
      "outputs": [
        {
          "output_type": "stream",
          "name": "stdout",
          "text": [
            "   year industry_code_ANZSIC               industry_name_ANZSIC rme_size_grp  \\\n",
            "0  2011                    A  Agriculture, Forestry and Fishing          a_0   \n",
            "1  2011                    A  Agriculture, Forestry and Fishing          a_0   \n",
            "2  2011                    A  Agriculture, Forestry and Fishing          a_0   \n",
            "3  2011                    A  Agriculture, Forestry and Fishing          a_0   \n",
            "4  2011                    A  Agriculture, Forestry and Fishing          a_0   \n",
            "\n",
            "                                          variable  value               unit  \n",
            "0                                    Activity unit  46134              COUNT  \n",
            "1                           Rolling mean employees      0              COUNT  \n",
            "2                          Salaries and wages paid    279  DOLLARS(millions)  \n",
            "3  Sales, government funding, grants and subsidies   8187  DOLLARS(millions)  \n",
            "4                                     Total income   8866  DOLLARS(millions)  \n"
          ]
        }
      ]
    },
    {
      "cell_type": "markdown",
      "source": [
        "### Section 1.3 Pandas DataFrame Indexing / Slicing"
      ],
      "metadata": {
        "id": "0rqfH3EdYDoD"
      }
    },
    {
      "cell_type": "markdown",
      "source": [
        "Do note that *indexing* refers to columns while *slicing* refers to rows."
      ],
      "metadata": {
        "id": "P3St5JV4ZaKZ"
      }
    },
    {
      "cell_type": "markdown",
      "source": [
        "#### Section 1.3.1 Default Slicing"
      ],
      "metadata": {
        "id": "WmAZ0cZY7jJf"
      }
    },
    {
      "cell_type": "markdown",
      "source": [
        "Print out the pandas object temp_series."
      ],
      "metadata": {
        "id": "2OMZLS4tY8v_"
      }
    },
    {
      "cell_type": "code",
      "source": [
        "print(temp_series)"
      ],
      "metadata": {
        "colab": {
          "base_uri": "https://localhost:8080/"
        },
        "id": "ztbBvByTZB8n",
        "outputId": "b5a3d61b-8a10-4fbf-ecda-2b1458f425f8"
      },
      "execution_count": 45,
      "outputs": [
        {
          "output_type": "stream",
          "name": "stdout",
          "text": [
            "8046352B      0\n",
            "8573645H      1\n",
            "9729384G      2\n",
            "1583726D      3\n",
            "2093837C      4\n",
            "239485723E    5\n",
            "dtype: int64\n"
          ]
        }
      ]
    },
    {
      "cell_type": "markdown",
      "source": [
        "Print out the values of the series from \"8573645H\" to \"2093837C\" (both inclusive)"
      ],
      "metadata": {
        "id": "iPpXb6VFbUiu"
      }
    },
    {
      "cell_type": "code",
      "source": [
        "print(temp_series[\"8573645H\":\"2093837C\"])"
      ],
      "metadata": {
        "colab": {
          "base_uri": "https://localhost:8080/"
        },
        "id": "_DZat4X9bT_V",
        "outputId": "9cbc45e1-3a76-4c46-9744-b34857d9257a"
      },
      "execution_count": 48,
      "outputs": [
        {
          "output_type": "stream",
          "name": "stdout",
          "text": [
            "8573645H    1\n",
            "9729384G    2\n",
            "1583726D    3\n",
            "2093837C    4\n",
            "dtype: int64\n"
          ]
        }
      ]
    },
    {
      "cell_type": "markdown",
      "source": [
        "We now have the following variables."
      ],
      "metadata": {
        "id": "CchEp4Dzb_Sf"
      }
    },
    {
      "cell_type": "code",
      "source": [
        "temp_list_0 = ['honda', 'toyota', 'kia', 'bmw', 'mazda']\n",
        "temp_list_1 = [150000, 130000, 100000, 250000, 140000]\n",
        "temp_indexes = ['c0','c1','c2','c3','c4']"
      ],
      "metadata": {
        "id": "JyjwJrorZq7k"
      },
      "execution_count": 49,
      "outputs": []
    },
    {
      "cell_type": "markdown",
      "source": [
        "Let's create a dataframe, with column \"car brand\" with values from temp_list_0 and column \"price\" with values of temp_list_1 with an explicit index."
      ],
      "metadata": {
        "id": "2y4LoOBCZrnd"
      }
    },
    {
      "cell_type": "code",
      "source": [
        "df = pd.DataFrame({\"car brand\":temp_list_0, \"price\":temp_list_1}, index=temp_indexes)"
      ],
      "metadata": {
        "id": "RuS7zEIvbI_p"
      },
      "execution_count": 50,
      "outputs": []
    },
    {
      "cell_type": "markdown",
      "source": [
        "Print temp_pd from \"c2\" to \"c4\"."
      ],
      "metadata": {
        "id": "FFiXYp_qdKwq"
      }
    },
    {
      "cell_type": "code",
      "source": [
        "print(df[\"c2\":\"c4\"])"
      ],
      "metadata": {
        "colab": {
          "base_uri": "https://localhost:8080/"
        },
        "id": "WibdoMaU7jW5",
        "outputId": "4605e8ed-3814-4fa7-fa67-2679c537636d"
      },
      "execution_count": 52,
      "outputs": [
        {
          "output_type": "stream",
          "name": "stdout",
          "text": [
            "   car brand   price\n",
            "c2       kia  100000\n",
            "c3       bmw  250000\n",
            "c4     mazda  140000\n"
          ]
        }
      ]
    },
    {
      "cell_type": "markdown",
      "source": [
        "Print temp_pd from index 2 (inclusive) to index 4 (non inclusive)."
      ],
      "metadata": {
        "id": "JpuClB2Ddwmx"
      }
    },
    {
      "cell_type": "code",
      "source": [
        "print(df[2:4])"
      ],
      "metadata": {
        "colab": {
          "base_uri": "https://localhost:8080/"
        },
        "id": "VqJWl4LG7oNF",
        "outputId": "306f607f-1239-4763-9db4-f0184794a8d5"
      },
      "execution_count": 54,
      "outputs": [
        {
          "output_type": "stream",
          "name": "stdout",
          "text": [
            "   car brand   price\n",
            "c2       kia  100000\n",
            "c3       bmw  250000\n"
          ]
        }
      ]
    },
    {
      "cell_type": "markdown",
      "source": [
        "#### Section 1.3.2 Indexing using loc, iloc"
      ],
      "metadata": {
        "id": "s5ZR9GYQbGir"
      }
    },
    {
      "cell_type": "markdown",
      "source": [
        "Using indexes may sometimes be confusing, especially with integer indexes.\n",
        "\n",
        "Hence Pandas has two special attributes, loc and iloc. loc allows for slicing referencing to the explicit index while iloc references that to the numerical index."
      ],
      "metadata": {
        "id": "QfJ7GnvAcF0r"
      }
    },
    {
      "cell_type": "code",
      "source": [
        "temp_pd"
      ],
      "metadata": {
        "colab": {
          "base_uri": "https://localhost:8080/",
          "height": 206
        },
        "id": "cpVLNkyJbfxA",
        "outputId": "d83c671e-9d73-4858-8ad1-277569575587"
      },
      "execution_count": 58,
      "outputs": [
        {
          "output_type": "execute_result",
          "data": {
            "text/plain": [
              "  car brand   price\n",
              "0     honda  150000\n",
              "1    toyota  130000\n",
              "2       kia  100000\n",
              "3       bmw  250000\n",
              "4     mazda  140000"
            ],
            "text/html": [
              "\n",
              "  <div id=\"df-af49ba8a-a88a-439f-a49c-d86b30a02f46\" class=\"colab-df-container\">\n",
              "    <div>\n",
              "<style scoped>\n",
              "    .dataframe tbody tr th:only-of-type {\n",
              "        vertical-align: middle;\n",
              "    }\n",
              "\n",
              "    .dataframe tbody tr th {\n",
              "        vertical-align: top;\n",
              "    }\n",
              "\n",
              "    .dataframe thead th {\n",
              "        text-align: right;\n",
              "    }\n",
              "</style>\n",
              "<table border=\"1\" class=\"dataframe\">\n",
              "  <thead>\n",
              "    <tr style=\"text-align: right;\">\n",
              "      <th></th>\n",
              "      <th>car brand</th>\n",
              "      <th>price</th>\n",
              "    </tr>\n",
              "  </thead>\n",
              "  <tbody>\n",
              "    <tr>\n",
              "      <th>0</th>\n",
              "      <td>honda</td>\n",
              "      <td>150000</td>\n",
              "    </tr>\n",
              "    <tr>\n",
              "      <th>1</th>\n",
              "      <td>toyota</td>\n",
              "      <td>130000</td>\n",
              "    </tr>\n",
              "    <tr>\n",
              "      <th>2</th>\n",
              "      <td>kia</td>\n",
              "      <td>100000</td>\n",
              "    </tr>\n",
              "    <tr>\n",
              "      <th>3</th>\n",
              "      <td>bmw</td>\n",
              "      <td>250000</td>\n",
              "    </tr>\n",
              "    <tr>\n",
              "      <th>4</th>\n",
              "      <td>mazda</td>\n",
              "      <td>140000</td>\n",
              "    </tr>\n",
              "  </tbody>\n",
              "</table>\n",
              "</div>\n",
              "    <div class=\"colab-df-buttons\">\n",
              "\n",
              "  <div class=\"colab-df-container\">\n",
              "    <button class=\"colab-df-convert\" onclick=\"convertToInteractive('df-af49ba8a-a88a-439f-a49c-d86b30a02f46')\"\n",
              "            title=\"Convert this dataframe to an interactive table.\"\n",
              "            style=\"display:none;\">\n",
              "\n",
              "  <svg xmlns=\"http://www.w3.org/2000/svg\" height=\"24px\" viewBox=\"0 -960 960 960\">\n",
              "    <path d=\"M120-120v-720h720v720H120Zm60-500h600v-160H180v160Zm220 220h160v-160H400v160Zm0 220h160v-160H400v160ZM180-400h160v-160H180v160Zm440 0h160v-160H620v160ZM180-180h160v-160H180v160Zm440 0h160v-160H620v160Z\"/>\n",
              "  </svg>\n",
              "    </button>\n",
              "\n",
              "  <style>\n",
              "    .colab-df-container {\n",
              "      display:flex;\n",
              "      gap: 12px;\n",
              "    }\n",
              "\n",
              "    .colab-df-convert {\n",
              "      background-color: #E8F0FE;\n",
              "      border: none;\n",
              "      border-radius: 50%;\n",
              "      cursor: pointer;\n",
              "      display: none;\n",
              "      fill: #1967D2;\n",
              "      height: 32px;\n",
              "      padding: 0 0 0 0;\n",
              "      width: 32px;\n",
              "    }\n",
              "\n",
              "    .colab-df-convert:hover {\n",
              "      background-color: #E2EBFA;\n",
              "      box-shadow: 0px 1px 2px rgba(60, 64, 67, 0.3), 0px 1px 3px 1px rgba(60, 64, 67, 0.15);\n",
              "      fill: #174EA6;\n",
              "    }\n",
              "\n",
              "    .colab-df-buttons div {\n",
              "      margin-bottom: 4px;\n",
              "    }\n",
              "\n",
              "    [theme=dark] .colab-df-convert {\n",
              "      background-color: #3B4455;\n",
              "      fill: #D2E3FC;\n",
              "    }\n",
              "\n",
              "    [theme=dark] .colab-df-convert:hover {\n",
              "      background-color: #434B5C;\n",
              "      box-shadow: 0px 1px 3px 1px rgba(0, 0, 0, 0.15);\n",
              "      filter: drop-shadow(0px 1px 2px rgba(0, 0, 0, 0.3));\n",
              "      fill: #FFFFFF;\n",
              "    }\n",
              "  </style>\n",
              "\n",
              "    <script>\n",
              "      const buttonEl =\n",
              "        document.querySelector('#df-af49ba8a-a88a-439f-a49c-d86b30a02f46 button.colab-df-convert');\n",
              "      buttonEl.style.display =\n",
              "        google.colab.kernel.accessAllowed ? 'block' : 'none';\n",
              "\n",
              "      async function convertToInteractive(key) {\n",
              "        const element = document.querySelector('#df-af49ba8a-a88a-439f-a49c-d86b30a02f46');\n",
              "        const dataTable =\n",
              "          await google.colab.kernel.invokeFunction('convertToInteractive',\n",
              "                                                    [key], {});\n",
              "        if (!dataTable) return;\n",
              "\n",
              "        const docLinkHtml = 'Like what you see? Visit the ' +\n",
              "          '<a target=\"_blank\" href=https://colab.research.google.com/notebooks/data_table.ipynb>data table notebook</a>'\n",
              "          + ' to learn more about interactive tables.';\n",
              "        element.innerHTML = '';\n",
              "        dataTable['output_type'] = 'display_data';\n",
              "        await google.colab.output.renderOutput(dataTable, element);\n",
              "        const docLink = document.createElement('div');\n",
              "        docLink.innerHTML = docLinkHtml;\n",
              "        element.appendChild(docLink);\n",
              "      }\n",
              "    </script>\n",
              "  </div>\n",
              "\n",
              "\n",
              "<div id=\"df-9f77794f-8f08-4e6e-b630-808fb0d50ee8\">\n",
              "  <button class=\"colab-df-quickchart\" onclick=\"quickchart('df-9f77794f-8f08-4e6e-b630-808fb0d50ee8')\"\n",
              "            title=\"Suggest charts\"\n",
              "            style=\"display:none;\">\n",
              "\n",
              "<svg xmlns=\"http://www.w3.org/2000/svg\" height=\"24px\"viewBox=\"0 0 24 24\"\n",
              "     width=\"24px\">\n",
              "    <g>\n",
              "        <path d=\"M19 3H5c-1.1 0-2 .9-2 2v14c0 1.1.9 2 2 2h14c1.1 0 2-.9 2-2V5c0-1.1-.9-2-2-2zM9 17H7v-7h2v7zm4 0h-2V7h2v10zm4 0h-2v-4h2v4z\"/>\n",
              "    </g>\n",
              "</svg>\n",
              "  </button>\n",
              "\n",
              "<style>\n",
              "  .colab-df-quickchart {\n",
              "      --bg-color: #E8F0FE;\n",
              "      --fill-color: #1967D2;\n",
              "      --hover-bg-color: #E2EBFA;\n",
              "      --hover-fill-color: #174EA6;\n",
              "      --disabled-fill-color: #AAA;\n",
              "      --disabled-bg-color: #DDD;\n",
              "  }\n",
              "\n",
              "  [theme=dark] .colab-df-quickchart {\n",
              "      --bg-color: #3B4455;\n",
              "      --fill-color: #D2E3FC;\n",
              "      --hover-bg-color: #434B5C;\n",
              "      --hover-fill-color: #FFFFFF;\n",
              "      --disabled-bg-color: #3B4455;\n",
              "      --disabled-fill-color: #666;\n",
              "  }\n",
              "\n",
              "  .colab-df-quickchart {\n",
              "    background-color: var(--bg-color);\n",
              "    border: none;\n",
              "    border-radius: 50%;\n",
              "    cursor: pointer;\n",
              "    display: none;\n",
              "    fill: var(--fill-color);\n",
              "    height: 32px;\n",
              "    padding: 0;\n",
              "    width: 32px;\n",
              "  }\n",
              "\n",
              "  .colab-df-quickchart:hover {\n",
              "    background-color: var(--hover-bg-color);\n",
              "    box-shadow: 0 1px 2px rgba(60, 64, 67, 0.3), 0 1px 3px 1px rgba(60, 64, 67, 0.15);\n",
              "    fill: var(--button-hover-fill-color);\n",
              "  }\n",
              "\n",
              "  .colab-df-quickchart-complete:disabled,\n",
              "  .colab-df-quickchart-complete:disabled:hover {\n",
              "    background-color: var(--disabled-bg-color);\n",
              "    fill: var(--disabled-fill-color);\n",
              "    box-shadow: none;\n",
              "  }\n",
              "\n",
              "  .colab-df-spinner {\n",
              "    border: 2px solid var(--fill-color);\n",
              "    border-color: transparent;\n",
              "    border-bottom-color: var(--fill-color);\n",
              "    animation:\n",
              "      spin 1s steps(1) infinite;\n",
              "  }\n",
              "\n",
              "  @keyframes spin {\n",
              "    0% {\n",
              "      border-color: transparent;\n",
              "      border-bottom-color: var(--fill-color);\n",
              "      border-left-color: var(--fill-color);\n",
              "    }\n",
              "    20% {\n",
              "      border-color: transparent;\n",
              "      border-left-color: var(--fill-color);\n",
              "      border-top-color: var(--fill-color);\n",
              "    }\n",
              "    30% {\n",
              "      border-color: transparent;\n",
              "      border-left-color: var(--fill-color);\n",
              "      border-top-color: var(--fill-color);\n",
              "      border-right-color: var(--fill-color);\n",
              "    }\n",
              "    40% {\n",
              "      border-color: transparent;\n",
              "      border-right-color: var(--fill-color);\n",
              "      border-top-color: var(--fill-color);\n",
              "    }\n",
              "    60% {\n",
              "      border-color: transparent;\n",
              "      border-right-color: var(--fill-color);\n",
              "    }\n",
              "    80% {\n",
              "      border-color: transparent;\n",
              "      border-right-color: var(--fill-color);\n",
              "      border-bottom-color: var(--fill-color);\n",
              "    }\n",
              "    90% {\n",
              "      border-color: transparent;\n",
              "      border-bottom-color: var(--fill-color);\n",
              "    }\n",
              "  }\n",
              "</style>\n",
              "\n",
              "  <script>\n",
              "    async function quickchart(key) {\n",
              "      const quickchartButtonEl =\n",
              "        document.querySelector('#' + key + ' button');\n",
              "      quickchartButtonEl.disabled = true;  // To prevent multiple clicks.\n",
              "      quickchartButtonEl.classList.add('colab-df-spinner');\n",
              "      try {\n",
              "        const charts = await google.colab.kernel.invokeFunction(\n",
              "            'suggestCharts', [key], {});\n",
              "      } catch (error) {\n",
              "        console.error('Error during call to suggestCharts:', error);\n",
              "      }\n",
              "      quickchartButtonEl.classList.remove('colab-df-spinner');\n",
              "      quickchartButtonEl.classList.add('colab-df-quickchart-complete');\n",
              "    }\n",
              "    (() => {\n",
              "      let quickchartButtonEl =\n",
              "        document.querySelector('#df-9f77794f-8f08-4e6e-b630-808fb0d50ee8 button');\n",
              "      quickchartButtonEl.style.display =\n",
              "        google.colab.kernel.accessAllowed ? 'block' : 'none';\n",
              "    })();\n",
              "  </script>\n",
              "</div>\n",
              "\n",
              "  <div id=\"id_30fd7cb9-548f-4c34-b092-28c008ea3787\">\n",
              "    <style>\n",
              "      .colab-df-generate {\n",
              "        background-color: #E8F0FE;\n",
              "        border: none;\n",
              "        border-radius: 50%;\n",
              "        cursor: pointer;\n",
              "        display: none;\n",
              "        fill: #1967D2;\n",
              "        height: 32px;\n",
              "        padding: 0 0 0 0;\n",
              "        width: 32px;\n",
              "      }\n",
              "\n",
              "      .colab-df-generate:hover {\n",
              "        background-color: #E2EBFA;\n",
              "        box-shadow: 0px 1px 2px rgba(60, 64, 67, 0.3), 0px 1px 3px 1px rgba(60, 64, 67, 0.15);\n",
              "        fill: #174EA6;\n",
              "      }\n",
              "\n",
              "      [theme=dark] .colab-df-generate {\n",
              "        background-color: #3B4455;\n",
              "        fill: #D2E3FC;\n",
              "      }\n",
              "\n",
              "      [theme=dark] .colab-df-generate:hover {\n",
              "        background-color: #434B5C;\n",
              "        box-shadow: 0px 1px 3px 1px rgba(0, 0, 0, 0.15);\n",
              "        filter: drop-shadow(0px 1px 2px rgba(0, 0, 0, 0.3));\n",
              "        fill: #FFFFFF;\n",
              "      }\n",
              "    </style>\n",
              "    <button class=\"colab-df-generate\" onclick=\"generateWithVariable('temp_pd')\"\n",
              "            title=\"Generate code using this dataframe.\"\n",
              "            style=\"display:none;\">\n",
              "\n",
              "  <svg xmlns=\"http://www.w3.org/2000/svg\" height=\"24px\"viewBox=\"0 0 24 24\"\n",
              "       width=\"24px\">\n",
              "    <path d=\"M7,19H8.4L18.45,9,17,7.55,7,17.6ZM5,21V16.75L18.45,3.32a2,2,0,0,1,2.83,0l1.4,1.43a1.91,1.91,0,0,1,.58,1.4,1.91,1.91,0,0,1-.58,1.4L9.25,21ZM18.45,9,17,7.55Zm-12,3A5.31,5.31,0,0,0,4.9,8.1,5.31,5.31,0,0,0,1,6.5,5.31,5.31,0,0,0,4.9,4.9,5.31,5.31,0,0,0,6.5,1,5.31,5.31,0,0,0,8.1,4.9,5.31,5.31,0,0,0,12,6.5,5.46,5.46,0,0,0,6.5,12Z\"/>\n",
              "  </svg>\n",
              "    </button>\n",
              "    <script>\n",
              "      (() => {\n",
              "      const buttonEl =\n",
              "        document.querySelector('#id_30fd7cb9-548f-4c34-b092-28c008ea3787 button.colab-df-generate');\n",
              "      buttonEl.style.display =\n",
              "        google.colab.kernel.accessAllowed ? 'block' : 'none';\n",
              "\n",
              "      buttonEl.onclick = () => {\n",
              "        google.colab.notebook.generateWithVariable('temp_pd');\n",
              "      }\n",
              "      })();\n",
              "    </script>\n",
              "  </div>\n",
              "\n",
              "    </div>\n",
              "  </div>\n"
            ]
          },
          "metadata": {},
          "execution_count": 58
        }
      ]
    },
    {
      "cell_type": "markdown",
      "source": [
        "Use .loc to slice rows from c1 to c4 (inclusive)"
      ],
      "metadata": {
        "id": "O_eTw7o3jssS"
      }
    },
    {
      "cell_type": "code",
      "source": [
        "print(temp_pd.loc[1:4])"
      ],
      "metadata": {
        "colab": {
          "base_uri": "https://localhost:8080/"
        },
        "id": "VcVPUA4nbZEf",
        "outputId": "a5f094f4-8b2a-46c3-a876-514ca8fdb99f"
      },
      "execution_count": 59,
      "outputs": [
        {
          "output_type": "stream",
          "name": "stdout",
          "text": [
            "  car brand   price\n",
            "1    toyota  130000\n",
            "2       kia  100000\n",
            "3       bmw  250000\n",
            "4     mazda  140000\n"
          ]
        }
      ]
    },
    {
      "cell_type": "markdown",
      "source": [
        "Use .loc to slice rows from c1 to c4 (inclusive) indexing only the \"car brand\" column"
      ],
      "metadata": {
        "id": "azrnJilyj11x"
      }
    },
    {
      "cell_type": "code",
      "source": [
        "print(temp_pd.loc[1:4, [\"car brand\"]])"
      ],
      "metadata": {
        "colab": {
          "base_uri": "https://localhost:8080/"
        },
        "id": "wOxUjAeCc1XW",
        "outputId": "a53049b2-5506-4278-f1aa-e2220e7ee675"
      },
      "execution_count": 61,
      "outputs": [
        {
          "output_type": "stream",
          "name": "stdout",
          "text": [
            "  car brand\n",
            "1    toyota\n",
            "2       kia\n",
            "3       bmw\n",
            "4     mazda\n"
          ]
        }
      ]
    },
    {
      "cell_type": "markdown",
      "source": [
        "Use .iloc to slice rows from 1 to 3 (non inclusive)"
      ],
      "metadata": {
        "id": "8gmSeM2Wkh8i"
      }
    },
    {
      "cell_type": "code",
      "source": [
        "print(temp_pd.iloc[1:3])"
      ],
      "metadata": {
        "colab": {
          "base_uri": "https://localhost:8080/"
        },
        "id": "63YDH9wBbY9c",
        "outputId": "b637d939-f24e-43e1-80fd-a54584309c3f"
      },
      "execution_count": 62,
      "outputs": [
        {
          "output_type": "stream",
          "name": "stdout",
          "text": [
            "  car brand   price\n",
            "1    toyota  130000\n",
            "2       kia  100000\n"
          ]
        }
      ]
    },
    {
      "cell_type": "markdown",
      "source": [
        "Use .iloc to slice rows from 1 to 3 (non inclusive) indexing only the \"car brand\" column"
      ],
      "metadata": {
        "id": "3dfZclOIkq2Q"
      }
    },
    {
      "cell_type": "code",
      "source": [
        "print(temp_pd.iloc[1:3, 0])"
      ],
      "metadata": {
        "colab": {
          "base_uri": "https://localhost:8080/"
        },
        "id": "sf-ofL0KdY3e",
        "outputId": "1bef1d85-1554-44c8-d6f4-93c1288354bc"
      },
      "execution_count": 67,
      "outputs": [
        {
          "output_type": "stream",
          "name": "stdout",
          "text": [
            "1    toyota\n",
            "2       kia\n",
            "Name: car brand, dtype: object\n"
          ]
        }
      ]
    },
    {
      "cell_type": "markdown",
      "source": [],
      "metadata": {
        "id": "w5oJLvMwagl3"
      }
    }
  ]
}