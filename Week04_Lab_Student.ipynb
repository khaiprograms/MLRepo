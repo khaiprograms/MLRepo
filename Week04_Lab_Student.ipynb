{
  "nbformat": 4,
  "nbformat_minor": 0,
  "metadata": {
    "colab": {
      "provenance": [],
      "include_colab_link": true
    },
    "kernelspec": {
      "name": "python3",
      "display_name": "Python 3"
    },
    "language_info": {
      "name": "python"
    }
  },
  "cells": [
    {
      "cell_type": "markdown",
      "metadata": {
        "id": "view-in-github",
        "colab_type": "text"
      },
      "source": [
        "<a href=\"https://colab.research.google.com/github/khaiprograms/MLRepo/blob/main/Week04_Lab_Student.ipynb\" target=\"_parent\"><img src=\"https://colab.research.google.com/assets/colab-badge.svg\" alt=\"Open In Colab\"/></a>"
      ]
    },
    {
      "cell_type": "markdown",
      "source": [
        "### Week 04 Lab: Simple Linear Regression"
      ],
      "metadata": {
        "id": "O-LHnFaRLROK"
      }
    },
    {
      "cell_type": "markdown",
      "source": [
        "In this lab, we will learn how to develop a simple linear regression model from scratch. After which we will verify our results using the common package from sklearn. By the end of this lab, you should be able to:\n",
        "*   implement the simple linear regression algorithm in python\n",
        "*   use your own algorithm to create a simple linear regression model from data\n",
        "*   use the library from sklearn to create a simple linear regression model from data\n"
      ],
      "metadata": {
        "id": "QucnanVmZhq6"
      }
    },
    {
      "cell_type": "markdown",
      "source": [
        "### Section 1.0 Importation of libraries\n",
        "\n",
        "We will import some of the typical python libraries."
      ],
      "metadata": {
        "id": "Sb2nmHzBeCcB"
      }
    },
    {
      "cell_type": "code",
      "execution_count": 1,
      "metadata": {
        "id": "zPmKPDGKEHml"
      },
      "outputs": [],
      "source": [
        "import random\n",
        "import numpy as np\n",
        "import pandas as pd\n",
        "import matplotlib.pyplot as plt"
      ]
    },
    {
      "cell_type": "markdown",
      "source": [
        "### Section 1.1 Create the data points"
      ],
      "metadata": {
        "id": "u9JMVor3N6Jw"
      }
    },
    {
      "cell_type": "markdown",
      "source": [
        "For this lab, we will be generating the dataset randomly. These numbers are represented generally by the formula.\n",
        "\n",
        "$y = 2 * x + rand(-18,27)$\n",
        "\n",
        "A random number in between -18 to 27 will be added to the formula (2 * x) to provide some randomization to the $y$ values. Do note that although the numbers are randomly generated, all of us should have the same set of numbers. (why?)\n",
        "\n",
        "In this section we will be generating just 50 points. For the time being, we will ignore the need for training data, testing data etc and just use all 50 points as training data. The main point of the Lab is really to understand the linear regression algorithm."
      ],
      "metadata": {
        "id": "ymN32sOnLzTG"
      }
    },
    {
      "cell_type": "code",
      "source": [
        "random.seed(5)\n",
        "\n",
        "num_points = 50\n",
        "X_data = np.array(random.sample(range(1, 100), num_points))\n",
        "y_data = X_data * 2 + np.array([random.randint(-18, 27) for x in range(num_points)])\n",
        "\n",
        "print(len(X_data))\n",
        "print(len(y_data))"
      ],
      "metadata": {
        "colab": {
          "base_uri": "https://localhost:8080/"
        },
        "id": "M26XMK7QFc2L",
        "outputId": "1807c534-0775-4627-bfc5-c9882a95e9d3"
      },
      "execution_count": 2,
      "outputs": [
        {
          "output_type": "stream",
          "name": "stdout",
          "text": [
            "50\n",
            "50\n"
          ]
        }
      ]
    },
    {
      "cell_type": "markdown",
      "source": [
        "Lets do a quick plot of the points to visually see how they look like.\n",
        "\n",
        "Plot a scatter plot between X_data and y_data."
      ],
      "metadata": {
        "id": "z6bk8wKDMS2c"
      }
    },
    {
      "cell_type": "code",
      "source": [
        "plt.scatter(X_data, y_data, marker='o', alpha=0.5)\n",
        "plt.xlabel('X_data')\n",
        "plt.ylabel('y_data')\n",
        "plt.grid(True)\n",
        "plt.show()"
      ],
      "metadata": {
        "colab": {
          "base_uri": "https://localhost:8080/",
          "height": 450
        },
        "id": "suOft0a2GPlA",
        "outputId": "e33ca2db-1ea9-4ba8-e0b7-f818446bc7c7"
      },
      "execution_count": 4,
      "outputs": [
        {
          "output_type": "display_data",
          "data": {
            "text/plain": [
              "<Figure size 640x480 with 1 Axes>"
            ],
            "image/png": "[encoded data removed]"
          },
          "metadata": {}
        }
      ]
    },
    {
      "cell_type": "markdown",
      "source": [
        "Convert the points to a dataframe and do a quick view of the first few rows. Name the columns \"x\", for X_data and \"y\" for y_data."
      ],
      "metadata": {
        "id": "C8YcEDxyNqvF"
      }
    },
    {
      "cell_type": "code",
      "source": [
        "data = {'x': X_data, 'y': y_data}\n",
        "df = pd.DataFrame(data)"
      ],
      "metadata": {
        "id": "r3mJloCCH-xg"
      },
      "execution_count": 90,
      "outputs": []
    },
    {
      "cell_type": "markdown",
      "source": [
        "Check the first five rows of the dataframe."
      ],
      "metadata": {
        "id": "BdybDwL5rDJH"
      }
    },
    {
      "cell_type": "code",
      "source": [
        "df.head()"
      ],
      "metadata": {
        "colab": {
          "base_uri": "https://localhost:8080/",
          "height": 206
        },
        "id": "WilOfPX_IHXU",
        "outputId": "7b7f8a20-dd0b-40d8-bb64-981368b7d9c4"
      },
      "execution_count": 96,
      "outputs": [
        {
          "output_type": "execute_result",
          "data": {
            "text/plain": [
              "    x    y\n",
              "0  80  186\n",
              "1  33   60\n",
              "2  95  196\n",
              "3  46   93\n",
              "4  89  161"
            ],
            "text/html": [
              "\n",
              "  <div id=\"df-8fef4a6e-c0a8-400d-b1f2-8c9841b932d4\" class=\"colab-df-container\">\n",
              "    <div>\n",
              "<style scoped>\n",
              "    .dataframe tbody tr th:only-of-type {\n",
              "        vertical-align: middle;\n",
              "    }\n",
              "\n",
              "    .dataframe tbody tr th {\n",
              "        vertical-align: top;\n",
              "    }\n",
              "\n",
              "    .dataframe thead th {\n",
              "        text-align: right;\n",
              "    }\n",
              "</style>\n",
              "<table border=\"1\" class=\"dataframe\">\n",
              "  <thead>\n",
              "    <tr style=\"text-align: right;\">\n",
              "      <th></th>\n",
              "      <th>x</th>\n",
              "      <th>y</th>\n",
              "    </tr>\n",
              "  </thead>\n",
              "  <tbody>\n",
              "    <tr>\n",
              "      <th>0</th>\n",
              "      <td>80</td>\n",
              "      <td>186</td>\n",
              "    </tr>\n",
              "    <tr>\n",
              "      <th>1</th>\n",
              "      <td>33</td>\n",
              "      <td>60</td>\n",
              "    </tr>\n",
              "    <tr>\n",
              "      <th>2</th>\n",
              "      <td>95</td>\n",
              "      <td>196</td>\n",
              "    </tr>\n",
              "    <tr>\n",
              "      <th>3</th>\n",
              "      <td>46</td>\n",
              "      <td>93</td>\n",
              "    </tr>\n",
              "    <tr>\n",
              "      <th>4</th>\n",
              "      <td>89</td>\n",
              "      <td>161</td>\n",
              "    </tr>\n",
              "  </tbody>\n",
              "</table>\n",
              "</div>\n",
              "    <div class=\"colab-df-buttons\">\n",
              "\n",
              "  <div class=\"colab-df-container\">\n",
              "    <button class=\"colab-df-convert\" onclick=\"convertToInteractive('df-8fef4a6e-c0a8-400d-b1f2-8c9841b932d4')\"\n",
              "            title=\"Convert this dataframe to an interactive table.\"\n",
              "            style=\"display:none;\">\n",
              "\n",
              "  <svg xmlns=\"http://www.w3.org/2000/svg\" height=\"24px\" viewBox=\"0 -960 960 960\">\n",
              "    <path d=\"M120-120v-720h720v720H120Zm60-500h600v-160H180v160Zm220 220h160v-160H400v160Zm0 220h160v-160H400v160ZM180-400h160v-160H180v160Zm440 0h160v-160H620v160ZM180-180h160v-160H180v160Zm440 0h160v-160H620v160Z\"/>\n",
              "  </svg>\n",
              "    </button>\n",
              "\n",
              "  <style>\n",
              "    .colab-df-container {\n",
              "      display:flex;\n",
              "      gap: 12px;\n",
              "    }\n",
              "\n",
              "    .colab-df-convert {\n",
              "      background-color: #E8F0FE;\n",
              "      border: none;\n",
              "      border-radius: 50%;\n",
              "      cursor: pointer;\n",
              "      display: none;\n",
              "      fill: #1967D2;\n",
              "      height: 32px;\n",
              "      padding: 0 0 0 0;\n",
              "      width: 32px;\n",
              "    }\n",
              "\n",
              "    .colab-df-convert:hover {\n",
              "      background-color: #E2EBFA;\n",
              "      box-shadow: 0px 1px 2px rgba(60, 64, 67, 0.3), 0px 1px 3px 1px rgba(60, 64, 67, 0.15);\n",
              "      fill: #174EA6;\n",
              "    }\n",
              "\n",
              "    .colab-df-buttons div {\n",
              "      margin-bottom: 4px;\n",
              "    }\n",
              "\n",
              "    [theme=dark] .colab-df-convert {\n",
              "      background-color: #3B4455;\n",
              "      fill: #D2E3FC;\n",
              "    }\n",
              "\n",
              "    [theme=dark] .colab-df-convert:hover {\n",
              "      background-color: #434B5C;\n",
              "      box-shadow: 0px 1px 3px 1px rgba(0, 0, 0, 0.15);\n",
              "      filter: drop-shadow(0px 1px 2px rgba(0, 0, 0, 0.3));\n",
              "      fill: #FFFFFF;\n",
              "    }\n",
              "  </style>\n",
              "\n",
              "    <script>\n",
              "      const buttonEl =\n",
              "        document.querySelector('#df-8fef4a6e-c0a8-400d-b1f2-8c9841b932d4 button.colab-df-convert');\n",
              "      buttonEl.style.display =\n",
              "        google.colab.kernel.accessAllowed ? 'block' : 'none';\n",
              "\n",
              "      async function convertToInteractive(key) {\n",
              "        const element = document.querySelector('#df-8fef4a6e-c0a8-400d-b1f2-8c9841b932d4');\n",
              "        const dataTable =\n",
              "          await google.colab.kernel.invokeFunction('convertToInteractive',\n",
              "                                                    [key], {});\n",
              "        if (!dataTable) return;\n",
              "\n",
              "        const docLinkHtml = 'Like what you see? Visit the ' +\n",
              "          '<a target=\"_blank\" href=https://colab.research.google.com/notebooks/data_table.ipynb>data table notebook</a>'\n",
              "          + ' to learn more about interactive tables.';\n",
              "        element.innerHTML = '';\n",
              "        dataTable['output_type'] = 'display_data';\n",
              "        await google.colab.output.renderOutput(dataTable, element);\n",
              "        const docLink = document.createElement('div');\n",
              "        docLink.innerHTML = docLinkHtml;\n",
              "        element.appendChild(docLink);\n",
              "      }\n",
              "    </script>\n",
              "  </div>\n",
              "\n",
              "\n",
              "<div id=\"df-09806264-9ef3-4cdb-8a32-d599098cb24f\">\n",
              "  <button class=\"colab-df-quickchart\" onclick=\"quickchart('df-09806264-9ef3-4cdb-8a32-d599098cb24f')\"\n",
              "            title=\"Suggest charts\"\n",
              "            style=\"display:none;\">\n",
              "\n",
              "<svg xmlns=\"http://www.w3.org/2000/svg\" height=\"24px\"viewBox=\"0 0 24 24\"\n",
              "     width=\"24px\">\n",
              "    <g>\n",
              "        <path d=\"M19 3H5c-1.1 0-2 .9-2 2v14c0 1.1.9 2 2 2h14c1.1 0 2-.9 2-2V5c0-1.1-.9-2-2-2zM9 17H7v-7h2v7zm4 0h-2V7h2v10zm4 0h-2v-4h2v4z\"/>\n",
              "    </g>\n",
              "</svg>\n",
              "  </button>\n",
              "\n",
              "<style>\n",
              "  .colab-df-quickchart {\n",
              "      --bg-color: #E8F0FE;\n",
              "      --fill-color: #1967D2;\n",
              "      --hover-bg-color: #E2EBFA;\n",
              "      --hover-fill-color: #174EA6;\n",
              "      --disabled-fill-color: #AAA;\n",
              "      --disabled-bg-color: #DDD;\n",
              "  }\n",
              "\n",
              "  [theme=dark] .colab-df-quickchart {\n",
              "      --bg-color: #3B4455;\n",
              "      --fill-color: #D2E3FC;\n",
              "      --hover-bg-color: #434B5C;\n",
              "      --hover-fill-color: #FFFFFF;\n",
              "      --disabled-bg-color: #3B4455;\n",
              "      --disabled-fill-color: #666;\n",
              "  }\n",
              "\n",
              "  .colab-df-quickchart {\n",
              "    background-color: var(--bg-color);\n",
              "    border: none;\n",
              "    border-radius: 50%;\n",
              "    cursor: pointer;\n",
              "    display: none;\n",
              "    fill: var(--fill-color);\n",
              "    height: 32px;\n",
              "    padding: 0;\n",
              "    width: 32px;\n",
              "  }\n",
              "\n",
              "  .colab-df-quickchart:hover {\n",
              "    background-color: var(--hover-bg-color);\n",
              "    box-shadow: 0 1px 2px rgba(60, 64, 67, 0.3), 0 1px 3px 1px rgba(60, 64, 67, 0.15);\n",
              "    fill: var(--button-hover-fill-color);\n",
              "  }\n",
              "\n",
              "  .colab-df-quickchart-complete:disabled,\n",
              "  .colab-df-quickchart-complete:disabled:hover {\n",
              "    background-color: var(--disabled-bg-color);\n",
              "    fill: var(--disabled-fill-color);\n",
              "    box-shadow: none;\n",
              "  }\n",
              "\n",
              "  .colab-df-spinner {\n",
              "    border: 2px solid var(--fill-color);\n",
              "    border-color: transparent;\n",
              "    border-bottom-color: var(--fill-color);\n",
              "    animation:\n",
              "      spin 1s steps(1) infinite;\n",
              "  }\n",
              "\n",
              "  @keyframes spin {\n",
              "    0% {\n",
              "      border-color: transparent;\n",
              "      border-bottom-color: var(--fill-color);\n",
              "      border-left-color: var(--fill-color);\n",
              "    }\n",
              "    20% {\n",
              "      border-color: transparent;\n",
              "      border-left-color: var(--fill-color);\n",
              "      border-top-color: var(--fill-color);\n",
              "    }\n",
              "    30% {\n",
              "      border-color: transparent;\n",
              "      border-left-color: var(--fill-color);\n",
              "      border-top-color: var(--fill-color);\n",
              "      border-right-color: var(--fill-color);\n",
              "    }\n",
              "    40% {\n",
              "      border-color: transparent;\n",
              "      border-right-color: var(--fill-color);\n",
              "      border-top-color: var(--fill-color);\n",
              "    }\n",
              "    60% {\n",
              "      border-color: transparent;\n",
              "      border-right-color: var(--fill-color);\n",
              "    }\n",
              "    80% {\n",
              "      border-color: transparent;\n",
              "      border-right-color: var(--fill-color);\n",
              "      border-bottom-color: var(--fill-color);\n",
              "    }\n",
              "    90% {\n",
              "      border-color: transparent;\n",
              "      border-bottom-color: var(--fill-color);\n",
              "    }\n",
              "  }\n",
              "</style>\n",
              "\n",
              "  <script>\n",
              "    async function quickchart(key) {\n",
              "      const quickchartButtonEl =\n",
              "        document.querySelector('#' + key + ' button');\n",
              "      quickchartButtonEl.disabled = true;  // To prevent multiple clicks.\n",
              "      quickchartButtonEl.classList.add('colab-df-spinner');\n",
              "      try {\n",
              "        const charts = await google.colab.kernel.invokeFunction(\n",
              "            'suggestCharts', [key], {});\n",
              "      } catch (error) {\n",
              "        console.error('Error during call to suggestCharts:', error);\n",
              "      }\n",
              "      quickchartButtonEl.classList.remove('colab-df-spinner');\n",
              "      quickchartButtonEl.classList.add('colab-df-quickchart-complete');\n",
              "    }\n",
              "    (() => {\n",
              "      let quickchartButtonEl =\n",
              "        document.querySelector('#df-09806264-9ef3-4cdb-8a32-d599098cb24f button');\n",
              "      quickchartButtonEl.style.display =\n",
              "        google.colab.kernel.accessAllowed ? 'block' : 'none';\n",
              "    })();\n",
              "  </script>\n",
              "</div>\n",
              "\n",
              "    </div>\n",
              "  </div>\n"
            ]
          },
          "metadata": {},
          "execution_count": 96
        }
      ]
    },
    {
      "cell_type": "markdown",
      "source": [
        "#### Section 1.2 Calculation of MSE\n",
        "\n",
        "Lets use the error metric, mean square error and implement the loss function here. We use the mean square error here because the maths will be much easier."
      ],
      "metadata": {
        "id": "oEEbe9i9Ny3F"
      }
    },
    {
      "cell_type": "markdown",
      "source": [
        "The error function (mean squre error) is\n",
        "\n",
        "$E = \\frac{1}{n}  \\sum\\limits_{i=0}^{n} (y_i - \\hat{y}_i)^2$\n",
        "\n",
        "where $\\hat{y}_i$ is the predicted value of $y$ at point $i$. We can write this as:\n",
        "\n",
        "$E = \\frac{1}{n}  \\sum\\limits_{i=0}^{n} (y_i - (m * x_i + c) )^2$"
      ],
      "metadata": {
        "id": "dtLKtCyJXwrE"
      }
    },
    {
      "cell_type": "markdown",
      "source": [
        "From the formulas above, define a method known as mse (mean square error). It should take parameters, m, c and the dataframe df. It should return the loss, or the mse."
      ],
      "metadata": {
        "id": "LGEJwk0msdP9"
      }
    },
    {
      "cell_type": "code",
      "source": [
        "def mse(m, c, df):\n",
        "    predictions = m * df['x'] + c\n",
        "    errors = df['y'] - predictions\n",
        "    squared_errors = errors ** 2\n",
        "    return squared_errors.mean()"
      ],
      "metadata": {
        "id": "8z1YYlTYGTLb"
      },
      "execution_count": 124,
      "outputs": []
    },
    {
      "cell_type": "markdown",
      "source": [
        "#### Section 1.3 Calculation of Gradient Descent"
      ],
      "metadata": {
        "id": "AckEXaKftA0V"
      }
    },
    {
      "cell_type": "markdown",
      "source": [
        "Recall that in the lectures, the rules that we wish to learn are the values of $m$ and $c$. In this context, we will have to tweak the values of $m$ and $c$. However we can only change these values by finding out the gradient which increases the error $E$ the most, and then by going against it to reduce the error.\n",
        "\n",
        "Mathematically, we will need to calculate the partial derivatives of $E$ with respect to $m$, and $E$ with respect to $c$. After we calculate these partial derivatives, we will reduce the values of $m$ and $c$ by these partial derivatives multiplied by a learning rate $L$.\n",
        "\n",
        "This learning rate $L$ is defined as how fast we wish the rules to learn."
      ],
      "metadata": {
        "id": "bAbf7hKpcFQY"
      }
    },
    {
      "cell_type": "markdown",
      "source": [
        "Let's calculate the partial derivatives here. $\\frac{\\partial E}{\\partial m}$ is calculated here:\n",
        "\n",
        "$\\frac{\\partial E}{\\partial m} = \\frac{1}{n} \\sum\\limits_{i=0}^{n} 2 * (y_i - (m * x_i + c) ) * (- x_i) $\n",
        "\n",
        "$\\frac{\\partial E}{\\partial m} = -2 * \\frac{1}{n} \\sum\\limits_{i=0}^{n} x_i * (y_i - (m * x_i + c))$"
      ],
      "metadata": {
        "id": "2xsK6hL1dEca"
      }
    },
    {
      "cell_type": "markdown",
      "source": [
        "$\\frac{\\partial E}{\\partial c}$ is calculated here:\n",
        "\n",
        "$\\frac{\\partial E}{\\partial c} = \\frac{1}{n} \\sum\\limits_{i=0}^{n} 2 * (y_i - (m * x_i + c) ) * (-1) $\n",
        "\n",
        "$\\frac{\\partial E}{\\partial c} = -2 * \\frac{1}{n} \\sum\\limits_{i=0}^{n} (y_i - (m * x_i + c))$"
      ],
      "metadata": {
        "id": "Gra3Q-Xah4Xn"
      }
    },
    {
      "cell_type": "markdown",
      "source": [
        "Here we are going to write the gradient descent function. It would take the form of the following:\n",
        "\n",
        "\n",
        "\n",
        "```\n",
        "def gradient_descent(m_curr, c_curr, df, L):\n",
        "  m_gradient = 0\n",
        "  c_gradient = 0\n",
        "\n",
        "  n = len(df)\n",
        "\n",
        "  for i in range(n):\n",
        "    # get the current x value of the dataframe.\n",
        "    # get the current y value of the dataframe.\n",
        "    x = # todo\n",
        "    y = # todo\n",
        "\n",
        "    # calculate the gradient based on the formula above.\n",
        "    m_gradient += # todo\n",
        "    c_gradient += # todo\n",
        "\n",
        "  # update m and c based on the gradient above and the learning rate.\n",
        "  m = # todo\n",
        "  c = # todo\n",
        "\n",
        "  return m, c\n",
        "  ```\n",
        "\n",
        "\n"
      ],
      "metadata": {
        "id": "3SQ3AiKtvMt8"
      }
    },
    {
      "cell_type": "code",
      "source": [
        "def gradient_descent(m_curr, c_curr, df, L):\n",
        "    m_gradient = 0\n",
        "    c_gradient = 0\n",
        "    n = len(df)\n",
        "\n",
        "    for i in range(n):\n",
        "        x = df.iloc[i]['x']\n",
        "        y = df.iloc[i]['y']\n",
        "        m_gradient += -(2/n) * x * (y - (m_curr * x + c_curr))\n",
        "        c_gradient += -(2/n) * (y - (m_curr * x + c_curr))\n",
        "\n",
        "    m_updated = m_curr - L * m_gradient\n",
        "    c_updated = c_curr - L * c_gradient\n",
        "\n",
        "    return m_updated, c_updated"
      ],
      "metadata": {
        "id": "hWBwjs6qIgLc"
      },
      "execution_count": 123,
      "outputs": []
    },
    {
      "cell_type": "markdown",
      "source": [
        "#### Section 1.4 Testing our implementation\n"
      ],
      "metadata": {
        "id": "Nfsq8_GXOULs"
      }
    },
    {
      "cell_type": "markdown",
      "source": [
        "Normalize the dataframe to have the values placed between 0 and 1."
      ],
      "metadata": {
        "id": "KoYb3fixHMtY"
      }
    },
    {
      "cell_type": "code",
      "source": [
        "normalized_df=(df-df.min())/(df.max()-df.min())\n",
        "\n",
        "# You can uncomment the following line if you wish to see the coefficients converge to something more interpretable. However you would need to use a much smaller learning rate, like 0.0001\n",
        "#normalized_df = df"
      ],
      "metadata": {
        "id": "T7O39n1CE36n"
      },
      "execution_count": 125,
      "outputs": []
    },
    {
      "cell_type": "markdown",
      "source": [
        "Set the gradient m to 0, c to 0, L to 0.01 and epochs to 1000."
      ],
      "metadata": {
        "id": "aoxsfISNHdHS"
      }
    },
    {
      "cell_type": "code",
      "source": [
        "# Initialize the values\n",
        "m = 0\n",
        "c = 0\n",
        "L = 0.01\n",
        "epochs = 1000"
      ],
      "metadata": {
        "id": "3XFr-RvgJXv0"
      },
      "execution_count": 128,
      "outputs": []
    },
    {
      "cell_type": "markdown",
      "source": [
        "Write a for loop to run gradient descent by the number of epochs."
      ],
      "metadata": {
        "id": "9We5XmYqv_XP"
      }
    },
    {
      "cell_type": "code",
      "source": [
        "for epoch in range(epochs):\n",
        "    # Call the gradient_descent function to update m and c\n",
        "    m, c = gradient_descent(m, c, normalized_df, L)\n",
        "\n",
        "    # Optionally, print the loss (MSE) for monitoring\n",
        "    if epoch % 50 == 0:\n",
        "        loss = mse(m, c, normalized_df)\n",
        "        print(f\"Epoch {epoch}: Loss = {loss:.4f}\")"
      ],
      "metadata": {
        "colab": {
          "base_uri": "https://localhost:8080/"
        },
        "id": "i0l8km8XJbW2",
        "outputId": "06d337f7-f02f-42e3-a777-c53d693761b2"
      },
      "execution_count": 129,
      "outputs": [
        {
          "output_type": "stream",
          "name": "stdout",
          "text": [
            "Epoch 0: Loss = 0.3155\n",
            "Epoch 50: Loss = 0.0573\n",
            "Epoch 100: Loss = 0.0332\n",
            "Epoch 150: Loss = 0.0278\n",
            "Epoch 200: Loss = 0.0244\n",
            "Epoch 250: Loss = 0.0215\n",
            "Epoch 300: Loss = 0.0191\n",
            "Epoch 350: Loss = 0.0169\n",
            "Epoch 400: Loss = 0.0151\n",
            "Epoch 450: Loss = 0.0135\n",
            "Epoch 500: Loss = 0.0122\n",
            "Epoch 550: Loss = 0.0110\n",
            "Epoch 600: Loss = 0.0100\n",
            "Epoch 650: Loss = 0.0091\n",
            "Epoch 700: Loss = 0.0083\n",
            "Epoch 750: Loss = 0.0077\n",
            "Epoch 800: Loss = 0.0071\n",
            "Epoch 850: Loss = 0.0066\n",
            "Epoch 900: Loss = 0.0062\n",
            "Epoch 950: Loss = 0.0058\n"
          ]
        }
      ]
    },
    {
      "cell_type": "markdown",
      "source": [
        "Plot the scatter plot of x and y points, as well as the regression line."
      ],
      "metadata": {
        "id": "GpJiSnhOwH-K"
      }
    },
    {
      "cell_type": "code",
      "source": [
        "plt.scatter(normalized_df.x, normalized_df.y)\n",
        "plt.plot(list(np.arange(0, 1.1,0.1)), [m * x + c for x in np.arange(0, 1.1,0.1)], color=\"red\")"
      ],
      "metadata": {
        "colab": {
          "base_uri": "https://localhost:8080/",
          "height": 447
        },
        "id": "we0h2ouGJm2O",
        "outputId": "71026a5e-a322-4aa6-f7e8-6e44bc40f043"
      },
      "execution_count": 130,
      "outputs": [
        {
          "output_type": "execute_result",
          "data": {
            "text/plain": [
              "[<matplotlib.lines.Line2D at 0x798fccf55b70>]"
            ]
          },
          "metadata": {},
          "execution_count": 130
        },
        {
          "output_type": "display_data",
          "data": {
            "text/plain": [
              "<Figure size 640x480 with 1 Axes>"
            ],
            "image/png": "[encoded data removed]"
          },
          "metadata": {}
        }
      ]
    },
    {
      "cell_type": "markdown",
      "source": [
        "#### Section 1.5 Plotting the loss.\n"
      ],
      "metadata": {
        "id": "ZbiL4yTyH3Wj"
      }
    },
    {
      "cell_type": "markdown",
      "source": [
        "Calculate the mse per epoch save it as a list tuple. Thereafter plot out the loss with the y axis as the loss and x axis as the iteration."
      ],
      "metadata": {
        "id": "G5YbA9yvfnAA"
      }
    },
    {
      "cell_type": "code",
      "source": [
        "m = 0\n",
        "c = 0\n",
        "L = 0.01\n",
        "epochs = 1000\n",
        "\n",
        "temp = []\n",
        "for i in range(epochs):\n",
        "  temp.append((i, mse(m, c, normalized_df)))\n",
        "  m, c = gradient_descent(m, c, normalized_df, L)"
      ],
      "metadata": {
        "id": "KFDBxIN0_bBt"
      },
      "execution_count": 131,
      "outputs": []
    },
    {
      "cell_type": "markdown",
      "source": [
        "Plot out the loss through a scatter plot."
      ],
      "metadata": {
        "id": "RIYFDod7f4Fj"
      }
    },
    {
      "cell_type": "code",
      "source": [
        "plt.scatter(*zip(*temp))"
      ],
      "metadata": {
        "colab": {
          "base_uri": "https://localhost:8080/",
          "height": 447
        },
        "id": "FjcUVMIk-I2V",
        "outputId": "60fa38b0-a17b-4a43-d4a5-7bdca1dd3ab1"
      },
      "execution_count": 132,
      "outputs": [
        {
          "output_type": "execute_result",
          "data": {
            "text/plain": [
              "<matplotlib.collections.PathCollection at 0x798fccfbf7c0>"
            ]
          },
          "metadata": {},
          "execution_count": 132
        },
        {
          "output_type": "display_data",
          "data": {
            "text/plain": [
              "<Figure size 640x480 with 1 Axes>"
            ],
            "image/png": "[encoded data removed]"
          },
          "metadata": {}
        }
      ]
    },
    {
      "cell_type": "markdown",
      "source": [
        "### Section 1.6 Extending to Multiple Linear Regression"
      ],
      "metadata": {
        "id": "BveHR5YOpqCm"
      }
    },
    {
      "cell_type": "markdown",
      "source": [
        "In the sections above, the work was relatively simple as it was a simple linear regression. We will extend it to multiple linear regression in the following section. The main task is to carry out proper vectorization of the variables."
      ],
      "metadata": {
        "id": "QmopXfqYlHO5"
      }
    },
    {
      "cell_type": "markdown",
      "source": [
        "Let's just try to vectorize the function properly. Let's look again at the function for gradient descent:\n",
        "\n",
        "```\n",
        "def gradient_descent(m_curr, c_curr, df, L):\n",
        "  m_gradient = 0\n",
        "  c_gradient = 0\n",
        "\n",
        "  n = len(df)\n",
        "\n",
        "  for i in range(n):\n",
        "    x = df.iloc[i].x\n",
        "    y = df.iloc[i].y\n",
        "\n",
        "    m_gradient += - (2/n) * x * (y - (m_curr * x + c_curr))\n",
        "    c_gradient += - (2/n) * (y - (m_curr * x + c_curr))\n",
        "\n",
        "  m = m_curr - m_gradient * L\n",
        "  c = c_curr - c_gradient * L\n",
        "\n",
        "  return m, c\n",
        "```\n",
        "\n",
        "There seems to be only two portions which require you do carry out any vectorization. They are in the for loop\n",
        "\n",
        "```\n",
        "  for i in range(n):\n",
        "    x = df.iloc[i].x\n",
        "    y = df.iloc[i].y\n",
        "```\n",
        "\n",
        "and the lines:\n",
        "\n",
        "```\n",
        "    m_gradient += - (2/n) * x * (y - (m_curr * x + c_curr))\n",
        "    c_gradient += - (2/n) * (y - (m_curr * x + c_curr))\n",
        "```\n",
        "\n",
        "\n",
        "\n",
        "\n",
        "\n"
      ],
      "metadata": {
        "id": "BE-pv9CRXCzD"
      }
    },
    {
      "cell_type": "markdown",
      "source": [
        "Such items are always very tricky to vectorize. I find that one of the easier ways is to determine the sizes of the matrix and then use these sizes to \"work backwards\". However if you know of an easier way do let me know! Let's assume the following matrix sizes:\n",
        "*   $c$: 1x1 vector.\n",
        "*   $m$: fx1 matrix, where $f$ is the number of features (independent variables)\n",
        "*   $x$: n x f matrix, where $f$ is the number of features (independent variables)\n",
        "*   $y$: n x 1 vector."
      ],
      "metadata": {
        "id": "5SzDvqf9e0hH"
      }
    },
    {
      "cell_type": "markdown",
      "source": [
        "Let's look at the first term,\n",
        "\n",
        "$(y - (x * m_{curr} + c_{curr}))$\n",
        "\n",
        "This nicely reduces to\n",
        "\n",
        "loss = $(y - (x.dot(m_{curr}) + c_{curr}))$\n",
        "\n",
        "Which the output is also n x 1\n"
      ],
      "metadata": {
        "id": "AgL_1Du0grgr"
      }
    },
    {
      "cell_type": "markdown",
      "source": [
        "Let's look at the second term as it is easier.\n",
        "\n",
        "```\n",
        "    c_gradient += - (2/n) * (y - (m_curr * x + c_curr))\n",
        "\n",
        "    # which reduces to:\n",
        "\n",
        "    c_gradient += - (2/n) * (loss))\n",
        "\n",
        "```\n",
        "\n",
        "c_gradient is of size 1 x 1 while the output (loss) is n x 1. Hence all we need to do is to sum up all the values to get a 1x1 matrix. We can hence remove the $for$ loop to get just\n",
        "\n",
        "```\n",
        "    c_gradient = - (1/n) * np.sum(loss)\n",
        "```\n",
        "\n"
      ],
      "metadata": {
        "id": "LLIpQ5lth9ax"
      }
    },
    {
      "cell_type": "markdown",
      "source": [
        "Now let's look at the first term:\n",
        "\n",
        "```\n",
        "    m_gradient += - (2/n) * x * (y - (m_curr * x + c_curr))\n",
        "\n",
        "    # which reduces to:\n",
        "\n",
        "    m_gradient += - (2/n) * x * (loss)\n",
        "\n",
        "```\n",
        "\n",
        "$x$: n x f sample while loss is n x 1. For the math to work out, we need to carry out a transpose of $x$ so that we get a f x n matrix dot product a n x 1 matrix. This gives us a f x 1 matrix, which nicely gives us the gradient descent value for every gradient in the feature.\n",
        "\n",
        "```\n",
        "    m_gradient = - (2/n) * x.T.dot(loss)\n",
        "```\n",
        "\n",
        "This gives us the vectorized form:"
      ],
      "metadata": {
        "id": "Og1Bozmwituz"
      }
    },
    {
      "cell_type": "code",
      "source": [
        "def gradient_descent(m_curr, c_curr, df, L):\n",
        "  m_gradient = 0\n",
        "  c_gradient = 0\n",
        "\n",
        "  x = np.array(df.x)\n",
        "  y = df.y\n",
        "\n",
        "  y_pred = (x.dot(m_curr) + c_curr)\n",
        "  loss = y - y_pred\n",
        "\n",
        "  n = len(y)\n",
        "\n",
        "  m_gradient = -(2/n) * x.T.dot(loss)\n",
        "  c_gradient = -(2/n) * np.sum(loss)\n",
        "\n",
        "  m = m_curr - m_gradient * L\n",
        "  c = c_curr - c_gradient * L\n",
        "\n",
        "  return m, c"
      ],
      "metadata": {
        "id": "mcC1_16pXBpn"
      },
      "execution_count": 133,
      "outputs": []
    },
    {
      "cell_type": "markdown",
      "source": [
        "We are almost there, not there yet but almost. Let's test out this version to see if everything is working as expected. We first create the dataset where n = 10 and f = 2."
      ],
      "metadata": {
        "id": "xOXYkd0vkaW7"
      }
    },
    {
      "cell_type": "code",
      "source": [
        "import random\n",
        "import numpy as np\n",
        "import pandas as pd\n",
        "\n",
        "random.seed(5)\n",
        "\n",
        "num_points = 10\n",
        "X_data_1 = np.array(random.sample(range(1, 100), num_points))\n",
        "X_data_2 = np.array(random.sample(range(50, 150), num_points))\n",
        "y_data = X_data_1 * 2 + X_data_2 * 5 + np.array([random.randint(-18, 27) for x in range(num_points)])\n",
        "\n",
        "X_data = np.vstack([X_data_1, X_data_2])\n",
        "X_data = X_data.T\n",
        "\n",
        "print(X_data, y_data)"
      ],
      "metadata": {
        "colab": {
          "base_uri": "https://localhost:8080/"
        },
        "id": "xAVUmgMXpe1D",
        "outputId": "880614c8-612c-42c5-f55c-866ff7ccc0de"
      },
      "execution_count": 134,
      "outputs": [
        {
          "output_type": "stream",
          "name": "stdout",
          "text": [
            "[[ 80 133]\n",
            " [ 33  56]\n",
            " [ 95  70]\n",
            " [ 46  64]\n",
            " [ 89  97]\n",
            " [ 84 110]\n",
            " [ 68  81]\n",
            " [  4  98]\n",
            " [ 60 119]\n",
            " [ 32  63]] [843 343 522 407 671 717 534 504 707 365]\n"
          ]
        }
      ]
    },
    {
      "cell_type": "markdown",
      "source": [
        "There is just one more item to fix, which is the gradient."
      ],
      "metadata": {
        "id": "rkQjZMpSk7DF"
      }
    },
    {
      "cell_type": "code",
      "source": [
        "m = np.zeros(X_data.shape[1])\n",
        "c = 0\n",
        "L = 0.0001\n",
        "epochs = 1000"
      ],
      "metadata": {
        "id": "y1dZBC6clFD0"
      },
      "execution_count": 135,
      "outputs": []
    },
    {
      "cell_type": "code",
      "source": [
        "def gradient_descent(x, y, m_curr, c_curr, L):\n",
        "  y_pred = (x.dot(m_curr) + c_curr)\n",
        "  loss = y - y_pred\n",
        "\n",
        "  n = len(y)\n",
        "\n",
        "  m_gradient = -(1/n) * x.T.dot(loss)\n",
        "  c_gradient = -(1/n) * np.sum(loss)\n",
        "\n",
        "  m = m_curr - m_gradient * L\n",
        "  c = c_curr - c_gradient * L\n",
        "\n",
        "  return m, c"
      ],
      "metadata": {
        "id": "nduoRJeLqal5"
      },
      "execution_count": 136,
      "outputs": []
    },
    {
      "cell_type": "code",
      "source": [
        "for i in range(epochs):\n",
        "  m, c = gradient_descent(X_data, y_data, m, c, L)\n",
        "print(m, c)"
      ],
      "metadata": {
        "colab": {
          "base_uri": "https://localhost:8080/"
        },
        "id": "vdqjSbwgrYeB",
        "outputId": "89ed9844-2718-4b08-846f-af1db4c334a8"
      },
      "execution_count": 137,
      "outputs": [
        {
          "output_type": "stream",
          "name": "stdout",
          "text": [
            "[1.86358604 5.0829625 ] -0.11283694655808156\n"
          ]
        }
      ]
    }
  ]
}